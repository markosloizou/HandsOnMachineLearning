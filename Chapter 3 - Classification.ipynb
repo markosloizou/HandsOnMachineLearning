{
 "cells": [
  {
   "cell_type": "code",
   "execution_count": 2,
   "id": "51fdc357",
   "metadata": {},
   "outputs": [
    {
     "data": {
      "text/plain": [
       "dict_keys(['data', 'target', 'frame', 'categories', 'feature_names', 'target_names', 'DESCR', 'details', 'url'])"
      ]
     },
     "execution_count": 2,
     "metadata": {},
     "output_type": "execute_result"
    }
   ],
   "source": [
    "from sklearn.datasets import fetch_openml\n",
    "mnist = fetch_openml('mnist_784', version=1)\n",
    "mnist.keys()"
   ]
  },
  {
   "cell_type": "code",
   "execution_count": 7,
   "id": "cbc5c602",
   "metadata": {},
   "outputs": [],
   "source": [
    "X,y = mnist['data'], mnist['target']"
   ]
  },
  {
   "cell_type": "code",
   "execution_count": 29,
   "id": "8316c33d",
   "metadata": {},
   "outputs": [],
   "source": [
    "import numpy as np"
   ]
  },
  {
   "cell_type": "code",
   "execution_count": 27,
   "id": "3434693e",
   "metadata": {},
   "outputs": [
    {
     "name": "stdout",
     "output_type": "stream",
     "text": [
      "5\n"
     ]
    },
    {
     "data": {
      "image/png": "[encoded data removed]",
      "text/plain": [
       "<Figure size 432x288 with 1 Axes>"
      ]
     },
     "metadata": {
      "needs_background": "light"
     },
     "output_type": "display_data"
    }
   ],
   "source": [
    "%matplotlib inline\n",
    "import matplotlib as mpl\n",
    "import matplotlib.pyplot as plt\n",
    "\n",
    "someDigit = X.iloc[0].to_numpy()\n",
    "someDigitImage = someDigit.reshape(28,28)\n",
    "\n",
    "plt.imshow(someDigitImage, cmap = mpl.cm.binary, interpolation='nearest')\n",
    "plt.axis('off')\n",
    "\n",
    "print(y[0])"
   ]
  },
  {
   "cell_type": "code",
   "execution_count": 30,
   "id": "3119789e",
   "metadata": {},
   "outputs": [],
   "source": [
    "y =  y.astype(np.uint8)"
   ]
  },
  {
   "cell_type": "markdown",
   "id": "37c0059b",
   "metadata": {},
   "source": [
    "### Split data"
   ]
  },
  {
   "cell_type": "code",
   "execution_count": 31,
   "id": "e6e92857",
   "metadata": {},
   "outputs": [],
   "source": [
    "X_train, X_test, y_train, y_test = X[:60000], X[60000:], y[:60000], y[60000:]"
   ]
  },
  {
   "cell_type": "markdown",
   "id": "a191479a",
   "metadata": {},
   "source": [
    "### Binary Classifier"
   ]
  },
  {
   "cell_type": "code",
   "execution_count": 32,
   "id": "1b38420f",
   "metadata": {},
   "outputs": [],
   "source": [
    "#Train on 5 only\n",
    "\n",
    "y_train5 = (y_train==5)\n",
    "y_test5 = (y_test == 5)\n"
   ]
  },
  {
   "cell_type": "code",
   "execution_count": 35,
   "id": "1d9939ee",
   "metadata": {},
   "outputs": [
    {
     "data": {
      "text/plain": [
       "SGDClassifier(random_state=42)"
      ]
     },
     "execution_count": 35,
     "metadata": {},
     "output_type": "execute_result"
    }
   ],
   "source": [
    "from sklearn.linear_model import SGDClassifier \n",
    "\n",
    "sgd_clf = SGDClassifier(random_state=42)\n",
    "sgd_clf.fit(X_train, y_train5)"
   ]
  },
  {
   "cell_type": "code",
   "execution_count": 38,
   "id": "e88f107b",
   "metadata": {},
   "outputs": [
    {
     "data": {
      "text/plain": [
       "array([0.95035, 0.96035, 0.9604 ])"
      ]
     },
     "execution_count": 38,
     "metadata": {},
     "output_type": "execute_result"
    }
   ],
   "source": [
    "from sklearn.model_selection import cross_val_score\n",
    "\n",
    "cross_val_score(sgd_clf, X_train, y_train5, cv=3, scoring='accuracy')"
   ]
  },
  {
   "cell_type": "code",
   "execution_count": 42,
   "id": "8123fe57",
   "metadata": {},
   "outputs": [],
   "source": [
    "from sklearn.model_selection import cross_val_predict\n",
    "\n",
    "y_train_pred = cross_val_predict(sgd_clf, X_train, y_train5, cv=3)"
   ]
  },
  {
   "cell_type": "code",
   "execution_count": 43,
   "id": "99781946",
   "metadata": {},
   "outputs": [
    {
     "data": {
      "text/plain": [
       "array([[53892,   687],\n",
       "       [ 1891,  3530]], dtype=int64)"
      ]
     },
     "execution_count": 43,
     "metadata": {},
     "output_type": "execute_result"
    }
   ],
   "source": [
    "from sklearn.metrics import confusion_matrix\n",
    "confusion_matrix(y_train5, y_train_pred)"
   ]
  },
  {
   "cell_type": "code",
   "execution_count": 46,
   "id": "1b5150b6",
   "metadata": {},
   "outputs": [
    {
     "name": "stdout",
     "output_type": "stream",
     "text": [
      "0.8370879772350012\n",
      "0.6511713705958311\n"
     ]
    }
   ],
   "source": [
    "from sklearn.metrics import precision_score, recall_score\n",
    "\n",
    "print(precision_score(y_train5, y_train_pred))\n",
    "print(recall_score(y_train5, y_train_pred))"
   ]
  },
  {
   "cell_type": "markdown",
   "id": "0e25a678",
   "metadata": {},
   "source": [
    "### Multilclass classification"
   ]
  },
  {
   "cell_type": "code",
   "execution_count": 47,
   "id": "e7b58e67",
   "metadata": {},
   "outputs": [
    {
     "ename": "AttributeError",
     "evalue": "'SGDClassifier' object has no attribute 'decusiob_function'",
     "output_type": "error",
     "traceback": [
      "\u001b[1;31m---------------------------------------------------------------------------\u001b[0m",
      "\u001b[1;31mAttributeError\u001b[0m                            Traceback (most recent call last)",
      "\u001b[1;32m<ipython-input-47-8ad532486a83>\u001b[0m in \u001b[0;36m<module>\u001b[1;34m\u001b[0m\n\u001b[0;32m      1\u001b[0m \u001b[0msgd_clf\u001b[0m\u001b[1;33m.\u001b[0m\u001b[0mfit\u001b[0m\u001b[1;33m(\u001b[0m\u001b[0mX_train\u001b[0m\u001b[1;33m,\u001b[0m \u001b[0my_train\u001b[0m\u001b[1;33m)\u001b[0m\u001b[1;33m\u001b[0m\u001b[1;33m\u001b[0m\u001b[0m\n\u001b[1;32m----> 2\u001b[1;33m \u001b[0mprint\u001b[0m\u001b[1;33m(\u001b[0m\u001b[0msgd_clf\u001b[0m\u001b[1;33m.\u001b[0m\u001b[0mdecusiob_function\u001b[0m\u001b[1;33m(\u001b[0m\u001b[1;33m[\u001b[0m\u001b[0msome_digit\u001b[0m\u001b[1;33m]\u001b[0m\u001b[1;33m)\u001b[0m\u001b[1;33m)\u001b[0m\u001b[1;33m\u001b[0m\u001b[1;33m\u001b[0m\u001b[0m\n\u001b[0m",
      "\u001b[1;31mAttributeError\u001b[0m: 'SGDClassifier' object has no attribute 'decusiob_function'"
     ]
    }
   ],
   "source": [
    "sgd_clf.fit(X_train, y_train)\n"
   ]
  },
  {
   "cell_type": "code",
   "execution_count": 50,
   "id": "f761be6a",
   "metadata": {},
   "outputs": [
    {
     "name": "stdout",
     "output_type": "stream",
     "text": [
      "[[-31893.03095419 -34419.69069632  -9530.63950739   1823.73154031\n",
      "  -22320.14822878  -1385.80478895 -26188.91070951 -16147.51323997\n",
      "   -4604.35491274 -12050.767298  ]]\n",
      "3\n"
     ]
    }
   ],
   "source": [
    "print(sgd_clf.decision_function([someDigit]))\n",
    "print(np.argmax(sgd_clf.decision_function([someDigit])))"
   ]
  },
  {
   "cell_type": "code",
   "execution_count": 51,
   "id": "dc0cace2",
   "metadata": {},
   "outputs": [
    {
     "name": "stdout",
     "output_type": "stream",
     "text": [
      "[5]\n"
     ]
    }
   ],
   "source": [
    "from sklearn.multiclass import OneVsOneClassifier\n",
    "\n",
    "ovo_clf = OneVsOneClassifier(SGDClassifier(random_state=42))\n",
    "\n",
    "ovo_clf.fit(X_train, y_train)\n",
    "\n",
    "print(ovo_clf.predict([someDigit]))"
   ]
  },
  {
   "cell_type": "markdown",
   "id": "4e3db951",
   "metadata": {},
   "source": [
    "## Multilabel Classification"
   ]
  },
  {
   "cell_type": "code",
   "execution_count": 54,
   "id": "f476cb1a",
   "metadata": {},
   "outputs": [
    {
     "data": {
      "text/plain": [
       "array([[False,  True]])"
      ]
     },
     "execution_count": 54,
     "metadata": {},
     "output_type": "execute_result"
    }
   ],
   "source": [
    "from sklearn.neighbors import KNeighborsClassifier\n",
    "\n",
    "y_train_large = (y_train >= 7)\n",
    "y_train_odd = (y_train % 2 == 1)\n",
    "y_multilabel = np.c_[y_train_large, y_train_odd]\n",
    "\n",
    "knn_clf = KNeighborsClassifier()\n",
    "knn_clf.fit(X_train, y_multilabel)\n",
    "knn_clf.predict([someDigit])"
   ]
  },
  {
   "cell_type": "markdown",
   "id": "c960fd6a",
   "metadata": {},
   "source": [
    "##  Noise Removal"
   ]
  },
  {
   "cell_type": "code",
   "execution_count": 55,
   "id": "3115fd56",
   "metadata": {},
   "outputs": [],
   "source": [
    "noise = np.random.randint(0,100, (len(X_train), 28*28))\n",
    "X_train_noisy = X_train + noise\n",
    "noise = np.random.randint(0,100, (len(X_test), 28*28))\n",
    "X_test_noisy = X_test + noise\n",
    "\n",
    "y_train_noisy = X_train\n",
    "y_test_noisy = X_test"
   ]
  },
  {
   "cell_type": "code",
   "execution_count": 58,
   "id": "e4da4dcc",
   "metadata": {},
   "outputs": [
    {
     "ename": "NameError",
     "evalue": "name 'plot_digit' is not defined",
     "output_type": "error",
     "traceback": [
      "\u001b[1;31m---------------------------------------------------------------------------\u001b[0m",
      "\u001b[1;31mNameError\u001b[0m                                 Traceback (most recent call last)",
      "\u001b[1;32m<ipython-input-58-2771c76ca353>\u001b[0m in \u001b[0;36m<module>\u001b[1;34m\u001b[0m\n\u001b[0;32m      1\u001b[0m \u001b[0mknn_clf\u001b[0m\u001b[1;33m.\u001b[0m\u001b[0mfit\u001b[0m\u001b[1;33m(\u001b[0m\u001b[0mX_train_noisy\u001b[0m\u001b[1;33m,\u001b[0m \u001b[0my_train_noisy\u001b[0m\u001b[1;33m)\u001b[0m\u001b[1;33m\u001b[0m\u001b[1;33m\u001b[0m\u001b[0m\n\u001b[0;32m      2\u001b[0m \u001b[0mclean_digit\u001b[0m \u001b[1;33m=\u001b[0m \u001b[0mknn_clf\u001b[0m\u001b[1;33m.\u001b[0m\u001b[0mpredict\u001b[0m\u001b[1;33m(\u001b[0m\u001b[1;33m[\u001b[0m\u001b[0mX_test_noisy\u001b[0m\u001b[1;33m.\u001b[0m\u001b[0miloc\u001b[0m\u001b[1;33m[\u001b[0m\u001b[1;36m0\u001b[0m\u001b[1;33m]\u001b[0m\u001b[1;33m.\u001b[0m\u001b[0mto_numpy\u001b[0m\u001b[1;33m(\u001b[0m\u001b[1;33m)\u001b[0m\u001b[1;33m]\u001b[0m\u001b[1;33m)\u001b[0m\u001b[1;33m\u001b[0m\u001b[1;33m\u001b[0m\u001b[0m\n\u001b[1;32m----> 3\u001b[1;33m \u001b[0mplot_digit\u001b[0m\u001b[1;33m\u001b[0m\u001b[1;33m\u001b[0m\u001b[0m\n\u001b[0m",
      "\u001b[1;31mNameError\u001b[0m: name 'plot_digit' is not defined"
     ]
    }
   ],
   "source": [
    "knn_clf.fit(X_train_noisy, y_train_noisy)\n"
   ]
  },
  {
   "cell_type": "code",
   "execution_count": 63,
   "id": "0d1a4227",
   "metadata": {},
   "outputs": [
    {
     "data": {
      "text/plain": [
       "<matplotlib.image.AxesImage at 0x176459ba5e0>"
      ]
     },
     "execution_count": 63,
     "metadata": {},
     "output_type": "execute_result"
    },
    {
     "data": {
      "image/png": "[encoded data removed]",
      "text/plain": [
       "<Figure size 432x288 with 2 Axes>"
      ]
     },
     "metadata": {
      "needs_background": "light"
     },
     "output_type": "display_data"
    }
   ],
   "source": [
    "noisy_digit = X_test_noisy.iloc[0].to_numpy()\n",
    "clean_digit = knn_clf.predict([noisy_digit])\n",
    "\n",
    "plt.subplot(1,2,1)\n",
    "plt.imshow(noisy_digit.reshape(28,28), cmap = mpl.cm.binary, interpolation='nearest')\n",
    "plt.subplot(1,2,2)\n",
    "plt.imshow(clean_digit.reshape(28,28), cmap = mpl.cm.binary, interpolation='nearest')"
   ]
  },
  {
   "cell_type": "markdown",
   "id": "ed2ee264",
   "metadata": {},
   "source": [
    "# Excercises"
   ]
  },
  {
   "cell_type": "markdown",
   "id": "17ffe067",
   "metadata": {},
   "source": [
    "## Ex-1"
   ]
  },
  {
   "cell_type": "code",
   "execution_count": 67,
   "id": "99ee40c2",
   "metadata": {},
   "outputs": [
    {
     "data": {
      "text/plain": [
       "GridSearchCV(estimator=KNeighborsClassifier(),\n",
       "             param_grid=[{'n_neighbors': [3, 7, 11, 21, 51, 101],\n",
       "                          'weights': ['uniform', 'distance']}])"
      ]
     },
     "execution_count": 67,
     "metadata": {},
     "output_type": "execute_result"
    }
   ],
   "source": [
    "from sklearn.model_selection import GridSearchCV\n",
    "\n",
    "search_params = [\n",
    "    {'weights':['uniform','distance'], 'n_neighbors':[3,5,7,9,11,21]}\n",
    "]\n",
    "\n",
    "grid_search = GridSearchCV(KNeighborsClassifier(), search_params)\n",
    "\n",
    "grid_search.fit(X_train, y_train)"
   ]
  },
  {
   "cell_type": "code",
   "execution_count": 88,
   "id": "39bda1b6",
   "metadata": {},
   "outputs": [
    {
     "name": "stdout",
     "output_type": "stream",
     "text": [
      "{'n_neighbors': 3, 'weights': 'distance'}\n"
     ]
    }
   ],
   "source": [
    "print(grid_search.best_params_)"
   ]
  },
  {
   "cell_type": "code",
   "execution_count": 85,
   "id": "3da876f5",
   "metadata": {},
   "outputs": [
    {
     "data": {
      "text/plain": [
       "array([0.9704, 0.9689, 0.9687])"
      ]
     },
     "execution_count": 85,
     "metadata": {},
     "output_type": "execute_result"
    }
   ],
   "source": [
    "cross_val_score(grid_search.best_estimator_, X_train, y_train, cv=3, scoring='accuracy')"
   ]
  },
  {
   "cell_type": "code",
   "execution_count": 124,
   "id": "34c0036d",
   "metadata": {},
   "outputs": [],
   "source": [
    "import pandas as pd\n",
    "from scipy.ndimage.interpolation import shift\n",
    "\n",
    "def augmentDataset(X, y):\n",
    "    x_augmented = np.zeros(shape=(len(y)*5, 28*28))\n",
    "    y_augmented = np.zeros(shape=len(y)*5, dtype=np.uint8)\n",
    "    for index,row in X.iterrows():\n",
    "        x_image = row.to_numpy().reshape(28,28)\n",
    "\n",
    "        x_augmented[index*5, :] = shift(x_image,[1,0], cval=0).flatten()\n",
    "        x_augmented[index*5+1, :] = shift(x_image,[-1,0], cval=0).flatten()\n",
    "        x_augmented[index*5+2, :] = shift(x_image,[0,1], cval=0).flatten()\n",
    "        x_augmented[index*5+3, :] = shift(x_image,[0,-1], cval=0).flatten()\n",
    "        x_augmented[index*5+4, :] = row.to_numpy()\n",
    "        y_augmented[index*5:index*5+5] = np.repeat(y[index], 5)\n",
    "    \n",
    "    permutation = np.random.permutation(len(y_augmented))    \n",
    "    augmented_df = pd.DataFrame(x_augmented)\n",
    "    augmented_df = augmented_df.reindex(permutation)\n",
    "    \n",
    "    return pd.DataFrame(augmented_df), y_aug[permutation]\n",
    "\n",
    "X_aug, y_aug = augmentDataset(X_train, y_train)\n"
   ]
  },
  {
   "cell_type": "code",
   "execution_count": 125,
   "id": "1294bdc2",
   "metadata": {},
   "outputs": [
    {
     "data": {
      "text/plain": [
       "array([0.98362, 0.98262, 0.98269])"
      ]
     },
     "execution_count": 125,
     "metadata": {},
     "output_type": "execute_result"
    }
   ],
   "source": [
    "cross_val_score(grid_search.best_estimator_, X_aug, y_aug, cv=3, scoring='accuracy')"
   ]
  },
  {
   "cell_type": "markdown",
   "id": "9a0b7750",
   "metadata": {},
   "source": [
    "## Ex-3 done in R"
   ]
  },
  {
   "cell_type": "markdown",
   "id": "86242dab",
   "metadata": {},
   "source": [
    "## Ex - 4 Spam Classifier"
   ]
  },
  {
   "cell_type": "code",
   "execution_count": 1,
   "id": "db7101cf",
   "metadata": {},
   "outputs": [],
   "source": [
    "import tarfile \n",
    "\n",
    "UNCOMPRESS_DIR = './datasets/spam/Uncompressed/'\n",
    "\n",
    "files = ['./datasets/spam/20021010_easy_ham.tar.bz2',\n",
    "        './datasets/spam/20021010_hard_ham.tar.bz2',\n",
    "        './datasets/spam/20021010_spam.tar.bz2',\n",
    "        './datasets/spam/20030228_easy_ham.tar.bz2',\n",
    "        './datasets/spam/20030228_easy_ham_2.tar.bz2',\n",
    "        './datasets/spam/20030228_hard_ham.tar.bz2',\n",
    "        './datasets/spam/20030228_spam.tar.bz2',\n",
    "        './datasets/spam/20030228_spam_2.tar.bz2',\n",
    "        './datasets/spam/20050311_spam_2.tar.bz2'] \n",
    "\n",
    "\n"
   ]
  },
  {
   "cell_type": "code",
   "execution_count": null,
   "id": "d5ac1d61",
   "metadata": {},
   "outputs": [],
   "source": [
    "for f in files:\n",
    "    print('Uncompressing: ', f)\n",
    "    tar = tarfile.open(f, 'r:bz2')\n",
    "    tar.extractall('./datasets/spam/Uncompressed/')\n",
    "    tar.close()"
   ]
  },
  {
   "cell_type": "code",
   "execution_count": 2,
   "id": "7e77723b",
   "metadata": {},
   "outputs": [
    {
     "name": "stdout",
     "output_type": "stream",
     "text": [
      "00116.29e39a0064e2714681726ac28ff3fdef\n",
      "00263.13fc73e09ae15e0023bdb13d0a010f2d\n",
      "00320.20dcbb5b047b8e2f212ee78267ee27ad\n",
      "00323.9e36bf05304c99f2133a4c03c49533a9\n",
      "00324.6f320a8c6b5f8e4bc47d475b3d4e86ef\n",
      "00500.85b72f09f6778a085dc8b6821965a76f\n",
      "0123.68e87f8b736959b1ab5c4b5f2ce7484a\n",
      "0273.51c482172b47ce926021aa7cc2552549\n",
      "0330.a4df526233e524104c3b3554dd8ab5a8\n",
      "0334.3e4946e69031f3860ac6de3d3f27aadd\n",
      "0335.9822e1787fca0741a8501bdef7e8bc79\n",
      "01065.9ecef01b01ca912fa35453196b4dae4c\n",
      "01227.04a4f94c7a73b29cb56bf38c7d526116\n",
      "01376.73e738e4cd8121ce3dfb42d190b193c9\n"
     ]
    }
   ],
   "source": [
    "import os\n",
    "import pandas as pd\n",
    "import numpy as np\n",
    "\n",
    "df = pd.DataFrame(columns = ['RawData', 'isSpam'])\n",
    "\n",
    "for root, dirs, files in os.walk(UNCOMPRESS_DIR):\n",
    "    for d in dirs:\n",
    "        for root2, dirs2, files2 in os.walk(UNCOMPRESS_DIR + '/' + d):\n",
    "            for f in files2: \n",
    "                isSpam = 0\n",
    "                if(d.__contains__('spam')):\n",
    "                    isSpam = 1\n",
    "                try:\n",
    "                    data = open(UNCOMPRESS_DIR + '/' + d + '/' + f, 'r').read()\n",
    "                    df = df.append({'RawData': data, 'isSpam':isSpam}, ignore_index=True)\n",
    "                    df.head()\n",
    "                except:\n",
    "                    print(f)\n",
    "                    continue"
   ]
  },
  {
   "cell_type": "code",
   "execution_count": 3,
   "id": "0d103f10",
   "metadata": {},
   "outputs": [
    {
     "data": {
      "text/html": [
       "<div>\n",
       "<style scoped>\n",
       "    .dataframe tbody tr th:only-of-type {\n",
       "        vertical-align: middle;\n",
       "    }\n",
       "\n",
       "    .dataframe tbody tr th {\n",
       "        vertical-align: top;\n",
       "    }\n",
       "\n",
       "    .dataframe thead th {\n",
       "        text-align: right;\n",
       "    }\n",
       "</style>\n",
       "<table border=\"1\" class=\"dataframe\">\n",
       "  <thead>\n",
       "    <tr style=\"text-align: right;\">\n",
       "      <th></th>\n",
       "      <th>RawData</th>\n",
       "      <th>isSpam</th>\n",
       "    </tr>\n",
       "  </thead>\n",
       "  <tbody>\n",
       "    <tr>\n",
       "      <th>0</th>\n",
       "      <td>From exmh-workers-admin@redhat.com  Thu Aug 22...</td>\n",
       "      <td>0</td>\n",
       "    </tr>\n",
       "    <tr>\n",
       "      <th>1</th>\n",
       "      <td>From Steve_Burt@cursor-system.com  Thu Aug 22 ...</td>\n",
       "      <td>0</td>\n",
       "    </tr>\n",
       "    <tr>\n",
       "      <th>2</th>\n",
       "      <td>From timc@2ubh.com  Thu Aug 22 13:52:59 2002\\n...</td>\n",
       "      <td>0</td>\n",
       "    </tr>\n",
       "    <tr>\n",
       "      <th>3</th>\n",
       "      <td>From irregulars-admin@tb.tf  Thu Aug 22 14:23:...</td>\n",
       "      <td>0</td>\n",
       "    </tr>\n",
       "    <tr>\n",
       "      <th>4</th>\n",
       "      <td>From Stewart.Smith@ee.ed.ac.uk  Thu Aug 22 14:...</td>\n",
       "      <td>0</td>\n",
       "    </tr>\n",
       "  </tbody>\n",
       "</table>\n",
       "</div>"
      ],
      "text/plain": [
       "                                             RawData isSpam\n",
       "0  From exmh-workers-admin@redhat.com  Thu Aug 22...      0\n",
       "1  From Steve_Burt@cursor-system.com  Thu Aug 22 ...      0\n",
       "2  From timc@2ubh.com  Thu Aug 22 13:52:59 2002\\n...      0\n",
       "3  From irregulars-admin@tb.tf  Thu Aug 22 14:23:...      0\n",
       "4  From Stewart.Smith@ee.ed.ac.uk  Thu Aug 22 14:...      0"
      ]
     },
     "execution_count": 3,
     "metadata": {},
     "output_type": "execute_result"
    }
   ],
   "source": [
    "df.head()"
   ]
  },
  {
   "cell_type": "code",
   "execution_count": 4,
   "id": "dcf0ec9f",
   "metadata": {},
   "outputs": [],
   "source": [
    "from sklearn.model_selection import train_test_split\n",
    "from sklearn.model_selection import StratifiedShuffleSplit\n",
    "\n",
    "X = df.RawData\n",
    "y = df.isSpam\n",
    "\n",
    "split = StratifiedShuffleSplit(n_splits=1, test_size=0.2, random_state=42)\n",
    "\n",
    "for train_index, test_index in split.split(X,y):    \n",
    "    X_train = X[train_index]    \n",
    "    y_train = y[train_index]\n",
    "    X_test = X[test_index]\n",
    "    y_test = y[test_index]\n"
   ]
  },
  {
   "cell_type": "markdown",
   "id": "29c5e0de",
   "metadata": {},
   "source": [
    "## Data-Preparation Pipeline"
   ]
  },
  {
   "cell_type": "code",
   "execution_count": 5,
   "id": "072dbda4",
   "metadata": {},
   "outputs": [],
   "source": [
    "from sklearn.base import BaseEstimator, TransformerMixin\n",
    "import string \n",
    "from email import parser\n",
    "import email\n",
    "import regex as re\n",
    "from nltk.stem import PorterStemmer\n",
    "from nltk.tokenize import sent_tokenize, word_tokenize\n",
    "from sklearn.feature_extraction.text import CountVectorizer\n",
    "from sklearn.feature_extraction.text import TfidfVectorizer\n",
    "\n",
    "class DataTransformer(BaseEstimator, TransformerMixin):\n",
    "    def __init__(self,\n",
    "                 toLowerCaseFlag=True,\n",
    "                 removeHeadersFlag=True,\n",
    "                 removePunctuationFlag=True,\n",
    "                 replaceURLsFlag=True,\n",
    "                 replaceNumbersFlag=True,\n",
    "                 doStemmingFlag=False,\n",
    "                 removeNewLinesFlag=True):\n",
    "        self.toLowerCaseFlag = toLowerCaseFlag\n",
    "        self.removeHeadersFlag = removeHeadersFlag\n",
    "        self.removePunctuationFlag = removePunctuationFlag\n",
    "        self.replaceURLsFlag = replaceURLsFlag\n",
    "        self.doStemmingFlag = doStemmingFlag\n",
    "        self.replaceNumbersFlag = replaceNumbersFlag\n",
    "        self.removeNewLinesFlag = removeNewLinesFlag\n",
    "\n",
    "    def fit(self, X, y=None):\n",
    "        return self\n",
    "    def transform(self, X, y=None):\n",
    "        XX = np.array(X, copy=True)\n",
    "        for i in range(0,len(XX)):\n",
    "            if(self.removeHeadersFlag):\n",
    "                try:\n",
    "                    XX[i] = self.removeHeaders(XX[i])\n",
    "                except:\n",
    "                    print(i)\n",
    "                    print(X[i])\n",
    "                    print(self.removeHeaders(XX[i]))\n",
    "            if(self.replaceURLsFlag):\n",
    "                XX[i] = self.replaceURLs(XX[i])\n",
    "            if(self.replaceNumbersFlag):\n",
    "                XX[i] = self.replaceNumbers(XX[i])\n",
    "            if(self.removePunctuationFlag):\n",
    "                XX[i] = self.removePunctuation(XX[i])\n",
    "            if(self.toLowerCaseFlag):\n",
    "                XX[i] = self.toLowerCase(XX[i])\n",
    "            if(self.doStemmingFlag):\n",
    "                XX[i] = self.stemEmail(XX[i])\n",
    "            if(self.removeNewLinesFlag):\n",
    "                XX[i] = self.removeNewLines(XX[i])\n",
    "\n",
    "        return XX\n",
    "\n",
    "    def toLowerCase(self, email):\n",
    "        return email.lower()\n",
    "\n",
    "    def removePunctuation(self, s):\n",
    "        return s.translate(str.maketrans('', '', string.punctuation))\n",
    "\n",
    "    def removeHeaders(self, s):\n",
    "        msg = email.message_from_string(s)\n",
    "        return_str = ''\n",
    "        for part in msg.walk():\n",
    "            # each part is a either non-multipart, or another multipart message\n",
    "            # that contains further parts... Message is organized like a tree\n",
    "            if part.get_content_type() == 'text/plain':\n",
    "                return_str +=  part.get_payload()  + ' '# prints the raw text\n",
    "        return return_str\n",
    "\n",
    "    def replaceURLs(self, s):\n",
    "        return re.sub(r'(https|http)?:\\/\\/(\\w|\\.|\\/|\\?|\\=|\\&|\\%)*\\b', ' URL ', s, flags=re.MULTILINE)\n",
    "\n",
    "    def replaceNumbers(self, s):\n",
    "        return re.sub('\\d+', ' NUM ' , s, flags=re.MULTILINE)\n",
    "\n",
    "    def removeNewLines(self, s):\n",
    "        return re.sub('\\n', ' ' , s, flags=re.MULTILINE)\n",
    "\n",
    "    def stemEmail(self, s):\n",
    "        ps = PorterStemmer()\n",
    "        words = word_tokenize(s)\n",
    "        return_str = ''\n",
    "        for w in words:\n",
    "            return_str += ps.stem(w) + ' '\n",
    "        return return_str"
   ]
  },
  {
   "cell_type": "code",
   "execution_count": 6,
   "id": "fca4ce2d",
   "metadata": {},
   "outputs": [],
   "source": [
    "dt = DataTransformer()\n",
    "\n",
    "x_t = dt.transform(X_train)\n"
   ]
  },
  {
   "cell_type": "code",
   "execution_count": 7,
   "id": "4c1538d2",
   "metadata": {},
   "outputs": [
    {
     "data": {
      "text/plain": [
       "'url  url  date  num  num  num t num  num  num  num  num   you are not still using sourceforge are you if you have any hopes that they  are anything but yet another business giving away a free service then see  this selling microsoft visualstudio on the open source development platform  nice touch click on the image for the original screenshot    '"
      ]
     },
     "execution_count": 7,
     "metadata": {},
     "output_type": "execute_result"
    }
   ],
   "source": [
    "x_t[1]"
   ]
  },
  {
   "cell_type": "code",
   "execution_count": 6,
   "id": "f7599d5b",
   "metadata": {},
   "outputs": [],
   "source": [
    "from sklearn.pipeline import Pipeline\n",
    "\n",
    "preprocessing_pipeline = Pipeline([\n",
    "    ('text_processing', DataTransformer()),\n",
    "    ('text_vectorizer', TfidfVectorizer())\n",
    "                                  ])"
   ]
  },
  {
   "cell_type": "code",
   "execution_count": 19,
   "id": "060c421a",
   "metadata": {},
   "outputs": [],
   "source": [
    "xhat = preprocessing_pipeline.fit_transform(X_train)\n"
   ]
  },
  {
   "cell_type": "code",
   "execution_count": 20,
   "id": "d533cab9",
   "metadata": {},
   "outputs": [
    {
     "ename": "TypeError",
     "evalue": "Expected sequence or array-like, got <class 'sklearn.pipeline.Pipeline'>",
     "output_type": "error",
     "traceback": [
      "\u001b[1;31m---------------------------------------------------------------------------\u001b[0m",
      "\u001b[1;31mTypeError\u001b[0m                                 Traceback (most recent call last)",
      "\u001b[1;32m<ipython-input-20-545dfcf883ca>\u001b[0m in \u001b[0;36m<module>\u001b[1;34m\u001b[0m\n\u001b[0;32m      4\u001b[0m \u001b[1;33m\u001b[0m\u001b[0m\n\u001b[0;32m      5\u001b[0m \u001b[1;33m\u001b[0m\u001b[0m\n\u001b[1;32m----> 6\u001b[1;33m \u001b[0mprint\u001b[0m\u001b[1;33m(\u001b[0m\u001b[1;34m'SVC '\u001b[0m\u001b[1;33m,\u001b[0m \u001b[0mcross_val_score\u001b[0m\u001b[1;33m(\u001b[0m\u001b[0mSVC\u001b[0m\u001b[1;33m(\u001b[0m\u001b[1;33m)\u001b[0m\u001b[1;33m,\u001b[0m \u001b[0mX\u001b[0m\u001b[1;33m=\u001b[0m\u001b[0mxxhat\u001b[0m\u001b[1;33m,\u001b[0m \u001b[0my\u001b[0m\u001b[1;33m=\u001b[0m\u001b[0my_train\u001b[0m\u001b[1;33m.\u001b[0m\u001b[0mvalues\u001b[0m\u001b[1;33m.\u001b[0m\u001b[0mastype\u001b[0m\u001b[1;33m(\u001b[0m\u001b[0mnp\u001b[0m\u001b[1;33m.\u001b[0m\u001b[0muint8\u001b[0m\u001b[1;33m)\u001b[0m\u001b[1;33m,\u001b[0m \u001b[0mcv\u001b[0m\u001b[1;33m=\u001b[0m\u001b[1;36m3\u001b[0m\u001b[1;33m,\u001b[0m \u001b[0mscoring\u001b[0m\u001b[1;33m=\u001b[0m\u001b[1;34m'precision'\u001b[0m\u001b[1;33m,\u001b[0m\u001b[0mn_jobs\u001b[0m\u001b[1;33m=\u001b[0m\u001b[1;33m-\u001b[0m\u001b[1;36m1\u001b[0m\u001b[1;33m)\u001b[0m\u001b[1;33m)\u001b[0m\u001b[1;33m\u001b[0m\u001b[1;33m\u001b[0m\u001b[0m\n\u001b[0m",
      "\u001b[1;32mc:\\users\\marko\\appdata\\local\\programs\\python\\python39\\lib\\site-packages\\sklearn\\utils\\validation.py\u001b[0m in \u001b[0;36minner_f\u001b[1;34m(*args, **kwargs)\u001b[0m\n\u001b[0;32m     61\u001b[0m             \u001b[0mextra_args\u001b[0m \u001b[1;33m=\u001b[0m \u001b[0mlen\u001b[0m\u001b[1;33m(\u001b[0m\u001b[0margs\u001b[0m\u001b[1;33m)\u001b[0m \u001b[1;33m-\u001b[0m \u001b[0mlen\u001b[0m\u001b[1;33m(\u001b[0m\u001b[0mall_args\u001b[0m\u001b[1;33m)\u001b[0m\u001b[1;33m\u001b[0m\u001b[1;33m\u001b[0m\u001b[0m\n\u001b[0;32m     62\u001b[0m             \u001b[1;32mif\u001b[0m \u001b[0mextra_args\u001b[0m \u001b[1;33m<=\u001b[0m \u001b[1;36m0\u001b[0m\u001b[1;33m:\u001b[0m\u001b[1;33m\u001b[0m\u001b[1;33m\u001b[0m\u001b[0m\n\u001b[1;32m---> 63\u001b[1;33m                 \u001b[1;32mreturn\u001b[0m \u001b[0mf\u001b[0m\u001b[1;33m(\u001b[0m\u001b[1;33m*\u001b[0m\u001b[0margs\u001b[0m\u001b[1;33m,\u001b[0m \u001b[1;33m**\u001b[0m\u001b[0mkwargs\u001b[0m\u001b[1;33m)\u001b[0m\u001b[1;33m\u001b[0m\u001b[1;33m\u001b[0m\u001b[0m\n\u001b[0m\u001b[0;32m     64\u001b[0m \u001b[1;33m\u001b[0m\u001b[0m\n\u001b[0;32m     65\u001b[0m             \u001b[1;31m# extra_args > 0\u001b[0m\u001b[1;33m\u001b[0m\u001b[1;33m\u001b[0m\u001b[1;33m\u001b[0m\u001b[0m\n",
      "\u001b[1;32mc:\\users\\marko\\appdata\\local\\programs\\python\\python39\\lib\\site-packages\\sklearn\\model_selection\\_validation.py\u001b[0m in \u001b[0;36mcross_val_score\u001b[1;34m(estimator, X, y, groups, scoring, cv, n_jobs, verbose, fit_params, pre_dispatch, error_score)\u001b[0m\n\u001b[0;32m    438\u001b[0m     \u001b[0mscorer\u001b[0m \u001b[1;33m=\u001b[0m \u001b[0mcheck_scoring\u001b[0m\u001b[1;33m(\u001b[0m\u001b[0mestimator\u001b[0m\u001b[1;33m,\u001b[0m \u001b[0mscoring\u001b[0m\u001b[1;33m=\u001b[0m\u001b[0mscoring\u001b[0m\u001b[1;33m)\u001b[0m\u001b[1;33m\u001b[0m\u001b[1;33m\u001b[0m\u001b[0m\n\u001b[0;32m    439\u001b[0m \u001b[1;33m\u001b[0m\u001b[0m\n\u001b[1;32m--> 440\u001b[1;33m     cv_results = cross_validate(estimator=estimator, X=X, y=y, groups=groups,\n\u001b[0m\u001b[0;32m    441\u001b[0m                                 \u001b[0mscoring\u001b[0m\u001b[1;33m=\u001b[0m\u001b[1;33m{\u001b[0m\u001b[1;34m'score'\u001b[0m\u001b[1;33m:\u001b[0m \u001b[0mscorer\u001b[0m\u001b[1;33m}\u001b[0m\u001b[1;33m,\u001b[0m \u001b[0mcv\u001b[0m\u001b[1;33m=\u001b[0m\u001b[0mcv\u001b[0m\u001b[1;33m,\u001b[0m\u001b[1;33m\u001b[0m\u001b[1;33m\u001b[0m\u001b[0m\n\u001b[0;32m    442\u001b[0m                                 \u001b[0mn_jobs\u001b[0m\u001b[1;33m=\u001b[0m\u001b[0mn_jobs\u001b[0m\u001b[1;33m,\u001b[0m \u001b[0mverbose\u001b[0m\u001b[1;33m=\u001b[0m\u001b[0mverbose\u001b[0m\u001b[1;33m,\u001b[0m\u001b[1;33m\u001b[0m\u001b[1;33m\u001b[0m\u001b[0m\n",
      "\u001b[1;32mc:\\users\\marko\\appdata\\local\\programs\\python\\python39\\lib\\site-packages\\sklearn\\utils\\validation.py\u001b[0m in \u001b[0;36minner_f\u001b[1;34m(*args, **kwargs)\u001b[0m\n\u001b[0;32m     61\u001b[0m             \u001b[0mextra_args\u001b[0m \u001b[1;33m=\u001b[0m \u001b[0mlen\u001b[0m\u001b[1;33m(\u001b[0m\u001b[0margs\u001b[0m\u001b[1;33m)\u001b[0m \u001b[1;33m-\u001b[0m \u001b[0mlen\u001b[0m\u001b[1;33m(\u001b[0m\u001b[0mall_args\u001b[0m\u001b[1;33m)\u001b[0m\u001b[1;33m\u001b[0m\u001b[1;33m\u001b[0m\u001b[0m\n\u001b[0;32m     62\u001b[0m             \u001b[1;32mif\u001b[0m \u001b[0mextra_args\u001b[0m \u001b[1;33m<=\u001b[0m \u001b[1;36m0\u001b[0m\u001b[1;33m:\u001b[0m\u001b[1;33m\u001b[0m\u001b[1;33m\u001b[0m\u001b[0m\n\u001b[1;32m---> 63\u001b[1;33m                 \u001b[1;32mreturn\u001b[0m \u001b[0mf\u001b[0m\u001b[1;33m(\u001b[0m\u001b[1;33m*\u001b[0m\u001b[0margs\u001b[0m\u001b[1;33m,\u001b[0m \u001b[1;33m**\u001b[0m\u001b[0mkwargs\u001b[0m\u001b[1;33m)\u001b[0m\u001b[1;33m\u001b[0m\u001b[1;33m\u001b[0m\u001b[0m\n\u001b[0m\u001b[0;32m     64\u001b[0m \u001b[1;33m\u001b[0m\u001b[0m\n\u001b[0;32m     65\u001b[0m             \u001b[1;31m# extra_args > 0\u001b[0m\u001b[1;33m\u001b[0m\u001b[1;33m\u001b[0m\u001b[1;33m\u001b[0m\u001b[0m\n",
      "\u001b[1;32mc:\\users\\marko\\appdata\\local\\programs\\python\\python39\\lib\\site-packages\\sklearn\\model_selection\\_validation.py\u001b[0m in \u001b[0;36mcross_validate\u001b[1;34m(estimator, X, y, groups, scoring, cv, n_jobs, verbose, fit_params, pre_dispatch, return_train_score, return_estimator, error_score)\u001b[0m\n\u001b[0;32m    229\u001b[0m \u001b[1;33m\u001b[0m\u001b[0m\n\u001b[0;32m    230\u001b[0m     \"\"\"\n\u001b[1;32m--> 231\u001b[1;33m     \u001b[0mX\u001b[0m\u001b[1;33m,\u001b[0m \u001b[0my\u001b[0m\u001b[1;33m,\u001b[0m \u001b[0mgroups\u001b[0m \u001b[1;33m=\u001b[0m \u001b[0mindexable\u001b[0m\u001b[1;33m(\u001b[0m\u001b[0mX\u001b[0m\u001b[1;33m,\u001b[0m \u001b[0my\u001b[0m\u001b[1;33m,\u001b[0m \u001b[0mgroups\u001b[0m\u001b[1;33m)\u001b[0m\u001b[1;33m\u001b[0m\u001b[1;33m\u001b[0m\u001b[0m\n\u001b[0m\u001b[0;32m    232\u001b[0m \u001b[1;33m\u001b[0m\u001b[0m\n\u001b[0;32m    233\u001b[0m     \u001b[0mcv\u001b[0m \u001b[1;33m=\u001b[0m \u001b[0mcheck_cv\u001b[0m\u001b[1;33m(\u001b[0m\u001b[0mcv\u001b[0m\u001b[1;33m,\u001b[0m \u001b[0my\u001b[0m\u001b[1;33m,\u001b[0m \u001b[0mclassifier\u001b[0m\u001b[1;33m=\u001b[0m\u001b[0mis_classifier\u001b[0m\u001b[1;33m(\u001b[0m\u001b[0mestimator\u001b[0m\u001b[1;33m)\u001b[0m\u001b[1;33m)\u001b[0m\u001b[1;33m\u001b[0m\u001b[1;33m\u001b[0m\u001b[0m\n",
      "\u001b[1;32mc:\\users\\marko\\appdata\\local\\programs\\python\\python39\\lib\\site-packages\\sklearn\\utils\\validation.py\u001b[0m in \u001b[0;36mindexable\u001b[1;34m(*iterables)\u001b[0m\n\u001b[0;32m    297\u001b[0m     \"\"\"\n\u001b[0;32m    298\u001b[0m     \u001b[0mresult\u001b[0m \u001b[1;33m=\u001b[0m \u001b[1;33m[\u001b[0m\u001b[0m_make_indexable\u001b[0m\u001b[1;33m(\u001b[0m\u001b[0mX\u001b[0m\u001b[1;33m)\u001b[0m \u001b[1;32mfor\u001b[0m \u001b[0mX\u001b[0m \u001b[1;32min\u001b[0m \u001b[0miterables\u001b[0m\u001b[1;33m]\u001b[0m\u001b[1;33m\u001b[0m\u001b[1;33m\u001b[0m\u001b[0m\n\u001b[1;32m--> 299\u001b[1;33m     \u001b[0mcheck_consistent_length\u001b[0m\u001b[1;33m(\u001b[0m\u001b[1;33m*\u001b[0m\u001b[0mresult\u001b[0m\u001b[1;33m)\u001b[0m\u001b[1;33m\u001b[0m\u001b[1;33m\u001b[0m\u001b[0m\n\u001b[0m\u001b[0;32m    300\u001b[0m     \u001b[1;32mreturn\u001b[0m \u001b[0mresult\u001b[0m\u001b[1;33m\u001b[0m\u001b[1;33m\u001b[0m\u001b[0m\n\u001b[0;32m    301\u001b[0m \u001b[1;33m\u001b[0m\u001b[0m\n",
      "\u001b[1;32mc:\\users\\marko\\appdata\\local\\programs\\python\\python39\\lib\\site-packages\\sklearn\\utils\\validation.py\u001b[0m in \u001b[0;36mcheck_consistent_length\u001b[1;34m(*arrays)\u001b[0m\n\u001b[0;32m    257\u001b[0m     \"\"\"\n\u001b[0;32m    258\u001b[0m \u001b[1;33m\u001b[0m\u001b[0m\n\u001b[1;32m--> 259\u001b[1;33m     \u001b[0mlengths\u001b[0m \u001b[1;33m=\u001b[0m \u001b[1;33m[\u001b[0m\u001b[0m_num_samples\u001b[0m\u001b[1;33m(\u001b[0m\u001b[0mX\u001b[0m\u001b[1;33m)\u001b[0m \u001b[1;32mfor\u001b[0m \u001b[0mX\u001b[0m \u001b[1;32min\u001b[0m \u001b[0marrays\u001b[0m \u001b[1;32mif\u001b[0m \u001b[0mX\u001b[0m \u001b[1;32mis\u001b[0m \u001b[1;32mnot\u001b[0m \u001b[1;32mNone\u001b[0m\u001b[1;33m]\u001b[0m\u001b[1;33m\u001b[0m\u001b[1;33m\u001b[0m\u001b[0m\n\u001b[0m\u001b[0;32m    260\u001b[0m     \u001b[0muniques\u001b[0m \u001b[1;33m=\u001b[0m \u001b[0mnp\u001b[0m\u001b[1;33m.\u001b[0m\u001b[0munique\u001b[0m\u001b[1;33m(\u001b[0m\u001b[0mlengths\u001b[0m\u001b[1;33m)\u001b[0m\u001b[1;33m\u001b[0m\u001b[1;33m\u001b[0m\u001b[0m\n\u001b[0;32m    261\u001b[0m     \u001b[1;32mif\u001b[0m \u001b[0mlen\u001b[0m\u001b[1;33m(\u001b[0m\u001b[0muniques\u001b[0m\u001b[1;33m)\u001b[0m \u001b[1;33m>\u001b[0m \u001b[1;36m1\u001b[0m\u001b[1;33m:\u001b[0m\u001b[1;33m\u001b[0m\u001b[1;33m\u001b[0m\u001b[0m\n",
      "\u001b[1;32mc:\\users\\marko\\appdata\\local\\programs\\python\\python39\\lib\\site-packages\\sklearn\\utils\\validation.py\u001b[0m in \u001b[0;36m<listcomp>\u001b[1;34m(.0)\u001b[0m\n\u001b[0;32m    257\u001b[0m     \"\"\"\n\u001b[0;32m    258\u001b[0m \u001b[1;33m\u001b[0m\u001b[0m\n\u001b[1;32m--> 259\u001b[1;33m     \u001b[0mlengths\u001b[0m \u001b[1;33m=\u001b[0m \u001b[1;33m[\u001b[0m\u001b[0m_num_samples\u001b[0m\u001b[1;33m(\u001b[0m\u001b[0mX\u001b[0m\u001b[1;33m)\u001b[0m \u001b[1;32mfor\u001b[0m \u001b[0mX\u001b[0m \u001b[1;32min\u001b[0m \u001b[0marrays\u001b[0m \u001b[1;32mif\u001b[0m \u001b[0mX\u001b[0m \u001b[1;32mis\u001b[0m \u001b[1;32mnot\u001b[0m \u001b[1;32mNone\u001b[0m\u001b[1;33m]\u001b[0m\u001b[1;33m\u001b[0m\u001b[1;33m\u001b[0m\u001b[0m\n\u001b[0m\u001b[0;32m    260\u001b[0m     \u001b[0muniques\u001b[0m \u001b[1;33m=\u001b[0m \u001b[0mnp\u001b[0m\u001b[1;33m.\u001b[0m\u001b[0munique\u001b[0m\u001b[1;33m(\u001b[0m\u001b[0mlengths\u001b[0m\u001b[1;33m)\u001b[0m\u001b[1;33m\u001b[0m\u001b[1;33m\u001b[0m\u001b[0m\n\u001b[0;32m    261\u001b[0m     \u001b[1;32mif\u001b[0m \u001b[0mlen\u001b[0m\u001b[1;33m(\u001b[0m\u001b[0muniques\u001b[0m\u001b[1;33m)\u001b[0m \u001b[1;33m>\u001b[0m \u001b[1;36m1\u001b[0m\u001b[1;33m:\u001b[0m\u001b[1;33m\u001b[0m\u001b[1;33m\u001b[0m\u001b[0m\n",
      "\u001b[1;32mc:\\users\\marko\\appdata\\local\\programs\\python\\python39\\lib\\site-packages\\sklearn\\utils\\validation.py\u001b[0m in \u001b[0;36m_num_samples\u001b[1;34m(x)\u001b[0m\n\u001b[0;32m    190\u001b[0m     \u001b[1;32mif\u001b[0m \u001b[0mhasattr\u001b[0m\u001b[1;33m(\u001b[0m\u001b[0mx\u001b[0m\u001b[1;33m,\u001b[0m \u001b[1;34m'fit'\u001b[0m\u001b[1;33m)\u001b[0m \u001b[1;32mand\u001b[0m \u001b[0mcallable\u001b[0m\u001b[1;33m(\u001b[0m\u001b[0mx\u001b[0m\u001b[1;33m.\u001b[0m\u001b[0mfit\u001b[0m\u001b[1;33m)\u001b[0m\u001b[1;33m:\u001b[0m\u001b[1;33m\u001b[0m\u001b[1;33m\u001b[0m\u001b[0m\n\u001b[0;32m    191\u001b[0m         \u001b[1;31m# Don't get num_samples from an ensembles length!\u001b[0m\u001b[1;33m\u001b[0m\u001b[1;33m\u001b[0m\u001b[1;33m\u001b[0m\u001b[0m\n\u001b[1;32m--> 192\u001b[1;33m         \u001b[1;32mraise\u001b[0m \u001b[0mTypeError\u001b[0m\u001b[1;33m(\u001b[0m\u001b[0mmessage\u001b[0m\u001b[1;33m)\u001b[0m\u001b[1;33m\u001b[0m\u001b[1;33m\u001b[0m\u001b[0m\n\u001b[0m\u001b[0;32m    193\u001b[0m \u001b[1;33m\u001b[0m\u001b[0m\n\u001b[0;32m    194\u001b[0m     \u001b[1;32mif\u001b[0m \u001b[1;32mnot\u001b[0m \u001b[0mhasattr\u001b[0m\u001b[1;33m(\u001b[0m\u001b[0mx\u001b[0m\u001b[1;33m,\u001b[0m \u001b[1;34m'__len__'\u001b[0m\u001b[1;33m)\u001b[0m \u001b[1;32mand\u001b[0m \u001b[1;32mnot\u001b[0m \u001b[0mhasattr\u001b[0m\u001b[1;33m(\u001b[0m\u001b[0mx\u001b[0m\u001b[1;33m,\u001b[0m \u001b[1;34m'shape'\u001b[0m\u001b[1;33m)\u001b[0m\u001b[1;33m:\u001b[0m\u001b[1;33m\u001b[0m\u001b[1;33m\u001b[0m\u001b[0m\n",
      "\u001b[1;31mTypeError\u001b[0m: Expected sequence or array-like, got <class 'sklearn.pipeline.Pipeline'>"
     ]
    }
   ],
   "source": [
    "from sklearn.model_selection import cross_val_score\n",
    "from sklearn.svm import SVC\n",
    "\n",
    "\n",
    "\n",
    "print('SVC ', cross_val_score(SVC(), X=xxhat, y=y_train.values.astype(np.uint8), cv=3, scoring='precision',n_jobs=-1))\n"
   ]
  },
  {
   "cell_type": "code",
   "execution_count": 12,
   "id": "0ec8ea4d",
   "metadata": {},
   "outputs": [
    {
     "data": {
      "text/plain": [
       "numpy.ndarray"
      ]
     },
     "execution_count": 12,
     "metadata": {},
     "output_type": "execute_result"
    }
   ],
   "source": [
    "type(y_train.values.astype(int))"
   ]
  },
  {
   "cell_type": "code",
   "execution_count": 12,
   "id": "3d1b69ef",
   "metadata": {
    "scrolled": true
   },
   "outputs": [
    {
     "ename": "KeyboardInterrupt",
     "evalue": "",
     "output_type": "error",
     "traceback": [
      "\u001b[1;31m---------------------------------------------------------------------------\u001b[0m",
      "\u001b[1;31mKeyboardInterrupt\u001b[0m                         Traceback (most recent call last)",
      "\u001b[1;32m<ipython-input-12-5e3fa1a7b876>\u001b[0m in \u001b[0;36m<module>\u001b[1;34m\u001b[0m\n\u001b[0;32m      8\u001b[0m \u001b[0mx_processed\u001b[0m \u001b[1;33m=\u001b[0m \u001b[0mpreprocessing_pipeline\u001b[0m\u001b[1;33m.\u001b[0m\u001b[0mfit_transform\u001b[0m\u001b[1;33m(\u001b[0m\u001b[0mX_train\u001b[0m\u001b[1;33m)\u001b[0m\u001b[1;33m\u001b[0m\u001b[1;33m\u001b[0m\u001b[0m\n\u001b[0;32m      9\u001b[0m \u001b[1;33m\u001b[0m\u001b[0m\n\u001b[1;32m---> 10\u001b[1;33m \u001b[0mprint\u001b[0m\u001b[1;33m(\u001b[0m\u001b[1;34m'KNN '\u001b[0m\u001b[1;33m,\u001b[0m \u001b[0mcross_val_score\u001b[0m\u001b[1;33m(\u001b[0m\u001b[0mKNeighborsClassifier\u001b[0m\u001b[1;33m(\u001b[0m\u001b[0mn_neighbors\u001b[0m\u001b[1;33m=\u001b[0m\u001b[1;36m15\u001b[0m\u001b[1;33m)\u001b[0m\u001b[1;33m,\u001b[0m \u001b[0mX\u001b[0m\u001b[1;33m=\u001b[0m\u001b[0mx_processed\u001b[0m\u001b[1;33m,\u001b[0m \u001b[0my\u001b[0m\u001b[1;33m=\u001b[0m\u001b[0my_train\u001b[0m\u001b[1;33m.\u001b[0m\u001b[0mvalues\u001b[0m\u001b[1;33m.\u001b[0m\u001b[0mastype\u001b[0m\u001b[1;33m(\u001b[0m\u001b[0mnp\u001b[0m\u001b[1;33m.\u001b[0m\u001b[0muint8\u001b[0m\u001b[1;33m)\u001b[0m\u001b[1;33m,\u001b[0m \u001b[0mcv\u001b[0m\u001b[1;33m=\u001b[0m\u001b[1;36m3\u001b[0m\u001b[1;33m,\u001b[0m \u001b[0mscoring\u001b[0m\u001b[1;33m=\u001b[0m\u001b[1;34m'precision'\u001b[0m\u001b[1;33m)\u001b[0m\u001b[1;33m)\u001b[0m\u001b[1;33m\u001b[0m\u001b[1;33m\u001b[0m\u001b[0m\n\u001b[0m\u001b[0;32m     11\u001b[0m \u001b[0mprint\u001b[0m\u001b[1;33m(\u001b[0m\u001b[1;34m'RF '\u001b[0m\u001b[1;33m,\u001b[0m \u001b[0mcross_val_score\u001b[0m\u001b[1;33m(\u001b[0m\u001b[0mRandomForestClassifier\u001b[0m\u001b[1;33m(\u001b[0m\u001b[1;33m)\u001b[0m\u001b[1;33m,\u001b[0m \u001b[0mX\u001b[0m\u001b[1;33m=\u001b[0m\u001b[0mx_processed\u001b[0m\u001b[1;33m,\u001b[0m \u001b[0my\u001b[0m\u001b[1;33m=\u001b[0m\u001b[0my_train\u001b[0m\u001b[1;33m.\u001b[0m\u001b[0mvalues\u001b[0m\u001b[1;33m.\u001b[0m\u001b[0mastype\u001b[0m\u001b[1;33m(\u001b[0m\u001b[0mnp\u001b[0m\u001b[1;33m.\u001b[0m\u001b[0muint8\u001b[0m\u001b[1;33m)\u001b[0m\u001b[1;33m,\u001b[0m \u001b[0mcv\u001b[0m\u001b[1;33m=\u001b[0m\u001b[1;36m3\u001b[0m\u001b[1;33m,\u001b[0m \u001b[0mscoring\u001b[0m\u001b[1;33m=\u001b[0m\u001b[1;34m'precision'\u001b[0m\u001b[1;33m)\u001b[0m\u001b[1;33m)\u001b[0m\u001b[1;33m\u001b[0m\u001b[1;33m\u001b[0m\u001b[0m\n\u001b[0;32m     12\u001b[0m \u001b[0mprint\u001b[0m\u001b[1;33m(\u001b[0m\u001b[1;34m'SVC '\u001b[0m\u001b[1;33m,\u001b[0m \u001b[0mcross_val_score\u001b[0m\u001b[1;33m(\u001b[0m\u001b[0mSVC\u001b[0m\u001b[1;33m(\u001b[0m\u001b[1;33m)\u001b[0m\u001b[1;33m,\u001b[0m \u001b[0mX\u001b[0m\u001b[1;33m=\u001b[0m\u001b[0mx_processed\u001b[0m\u001b[1;33m,\u001b[0m \u001b[0my\u001b[0m\u001b[1;33m=\u001b[0m\u001b[0my_train\u001b[0m\u001b[1;33m.\u001b[0m\u001b[0mvalues\u001b[0m\u001b[1;33m.\u001b[0m\u001b[0mastype\u001b[0m\u001b[1;33m(\u001b[0m\u001b[0mnp\u001b[0m\u001b[1;33m.\u001b[0m\u001b[0muint8\u001b[0m\u001b[1;33m)\u001b[0m\u001b[1;33m,\u001b[0m \u001b[0mcv\u001b[0m\u001b[1;33m=\u001b[0m\u001b[1;36m3\u001b[0m\u001b[1;33m,\u001b[0m \u001b[0mscoring\u001b[0m\u001b[1;33m=\u001b[0m\u001b[1;34m'precision'\u001b[0m\u001b[1;33m)\u001b[0m\u001b[1;33m)\u001b[0m\u001b[1;33m\u001b[0m\u001b[1;33m\u001b[0m\u001b[0m\n",
      "\u001b[1;32mc:\\users\\marko\\appdata\\local\\programs\\python\\python39\\lib\\site-packages\\sklearn\\utils\\validation.py\u001b[0m in \u001b[0;36minner_f\u001b[1;34m(*args, **kwargs)\u001b[0m\n\u001b[0;32m     61\u001b[0m             \u001b[0mextra_args\u001b[0m \u001b[1;33m=\u001b[0m \u001b[0mlen\u001b[0m\u001b[1;33m(\u001b[0m\u001b[0margs\u001b[0m\u001b[1;33m)\u001b[0m \u001b[1;33m-\u001b[0m \u001b[0mlen\u001b[0m\u001b[1;33m(\u001b[0m\u001b[0mall_args\u001b[0m\u001b[1;33m)\u001b[0m\u001b[1;33m\u001b[0m\u001b[1;33m\u001b[0m\u001b[0m\n\u001b[0;32m     62\u001b[0m             \u001b[1;32mif\u001b[0m \u001b[0mextra_args\u001b[0m \u001b[1;33m<=\u001b[0m \u001b[1;36m0\u001b[0m\u001b[1;33m:\u001b[0m\u001b[1;33m\u001b[0m\u001b[1;33m\u001b[0m\u001b[0m\n\u001b[1;32m---> 63\u001b[1;33m                 \u001b[1;32mreturn\u001b[0m \u001b[0mf\u001b[0m\u001b[1;33m(\u001b[0m\u001b[1;33m*\u001b[0m\u001b[0margs\u001b[0m\u001b[1;33m,\u001b[0m \u001b[1;33m**\u001b[0m\u001b[0mkwargs\u001b[0m\u001b[1;33m)\u001b[0m\u001b[1;33m\u001b[0m\u001b[1;33m\u001b[0m\u001b[0m\n\u001b[0m\u001b[0;32m     64\u001b[0m \u001b[1;33m\u001b[0m\u001b[0m\n\u001b[0;32m     65\u001b[0m             \u001b[1;31m# extra_args > 0\u001b[0m\u001b[1;33m\u001b[0m\u001b[1;33m\u001b[0m\u001b[1;33m\u001b[0m\u001b[0m\n",
      "\u001b[1;32mc:\\users\\marko\\appdata\\local\\programs\\python\\python39\\lib\\site-packages\\sklearn\\model_selection\\_validation.py\u001b[0m in \u001b[0;36mcross_val_score\u001b[1;34m(estimator, X, y, groups, scoring, cv, n_jobs, verbose, fit_params, pre_dispatch, error_score)\u001b[0m\n\u001b[0;32m    438\u001b[0m     \u001b[0mscorer\u001b[0m \u001b[1;33m=\u001b[0m \u001b[0mcheck_scoring\u001b[0m\u001b[1;33m(\u001b[0m\u001b[0mestimator\u001b[0m\u001b[1;33m,\u001b[0m \u001b[0mscoring\u001b[0m\u001b[1;33m=\u001b[0m\u001b[0mscoring\u001b[0m\u001b[1;33m)\u001b[0m\u001b[1;33m\u001b[0m\u001b[1;33m\u001b[0m\u001b[0m\n\u001b[0;32m    439\u001b[0m \u001b[1;33m\u001b[0m\u001b[0m\n\u001b[1;32m--> 440\u001b[1;33m     cv_results = cross_validate(estimator=estimator, X=X, y=y, groups=groups,\n\u001b[0m\u001b[0;32m    441\u001b[0m                                 \u001b[0mscoring\u001b[0m\u001b[1;33m=\u001b[0m\u001b[1;33m{\u001b[0m\u001b[1;34m'score'\u001b[0m\u001b[1;33m:\u001b[0m \u001b[0mscorer\u001b[0m\u001b[1;33m}\u001b[0m\u001b[1;33m,\u001b[0m \u001b[0mcv\u001b[0m\u001b[1;33m=\u001b[0m\u001b[0mcv\u001b[0m\u001b[1;33m,\u001b[0m\u001b[1;33m\u001b[0m\u001b[1;33m\u001b[0m\u001b[0m\n\u001b[0;32m    442\u001b[0m                                 \u001b[0mn_jobs\u001b[0m\u001b[1;33m=\u001b[0m\u001b[0mn_jobs\u001b[0m\u001b[1;33m,\u001b[0m \u001b[0mverbose\u001b[0m\u001b[1;33m=\u001b[0m\u001b[0mverbose\u001b[0m\u001b[1;33m,\u001b[0m\u001b[1;33m\u001b[0m\u001b[1;33m\u001b[0m\u001b[0m\n",
      "\u001b[1;32mc:\\users\\marko\\appdata\\local\\programs\\python\\python39\\lib\\site-packages\\sklearn\\utils\\validation.py\u001b[0m in \u001b[0;36minner_f\u001b[1;34m(*args, **kwargs)\u001b[0m\n\u001b[0;32m     61\u001b[0m             \u001b[0mextra_args\u001b[0m \u001b[1;33m=\u001b[0m \u001b[0mlen\u001b[0m\u001b[1;33m(\u001b[0m\u001b[0margs\u001b[0m\u001b[1;33m)\u001b[0m \u001b[1;33m-\u001b[0m \u001b[0mlen\u001b[0m\u001b[1;33m(\u001b[0m\u001b[0mall_args\u001b[0m\u001b[1;33m)\u001b[0m\u001b[1;33m\u001b[0m\u001b[1;33m\u001b[0m\u001b[0m\n\u001b[0;32m     62\u001b[0m             \u001b[1;32mif\u001b[0m \u001b[0mextra_args\u001b[0m \u001b[1;33m<=\u001b[0m \u001b[1;36m0\u001b[0m\u001b[1;33m:\u001b[0m\u001b[1;33m\u001b[0m\u001b[1;33m\u001b[0m\u001b[0m\n\u001b[1;32m---> 63\u001b[1;33m                 \u001b[1;32mreturn\u001b[0m \u001b[0mf\u001b[0m\u001b[1;33m(\u001b[0m\u001b[1;33m*\u001b[0m\u001b[0margs\u001b[0m\u001b[1;33m,\u001b[0m \u001b[1;33m**\u001b[0m\u001b[0mkwargs\u001b[0m\u001b[1;33m)\u001b[0m\u001b[1;33m\u001b[0m\u001b[1;33m\u001b[0m\u001b[0m\n\u001b[0m\u001b[0;32m     64\u001b[0m \u001b[1;33m\u001b[0m\u001b[0m\n\u001b[0;32m     65\u001b[0m             \u001b[1;31m# extra_args > 0\u001b[0m\u001b[1;33m\u001b[0m\u001b[1;33m\u001b[0m\u001b[1;33m\u001b[0m\u001b[0m\n",
      "\u001b[1;32mc:\\users\\marko\\appdata\\local\\programs\\python\\python39\\lib\\site-packages\\sklearn\\model_selection\\_validation.py\u001b[0m in \u001b[0;36mcross_validate\u001b[1;34m(estimator, X, y, groups, scoring, cv, n_jobs, verbose, fit_params, pre_dispatch, return_train_score, return_estimator, error_score)\u001b[0m\n\u001b[0;32m    244\u001b[0m     parallel = Parallel(n_jobs=n_jobs, verbose=verbose,\n\u001b[0;32m    245\u001b[0m                         pre_dispatch=pre_dispatch)\n\u001b[1;32m--> 246\u001b[1;33m     results = parallel(\n\u001b[0m\u001b[0;32m    247\u001b[0m         delayed(_fit_and_score)(\n\u001b[0;32m    248\u001b[0m             \u001b[0mclone\u001b[0m\u001b[1;33m(\u001b[0m\u001b[0mestimator\u001b[0m\u001b[1;33m)\u001b[0m\u001b[1;33m,\u001b[0m \u001b[0mX\u001b[0m\u001b[1;33m,\u001b[0m \u001b[0my\u001b[0m\u001b[1;33m,\u001b[0m \u001b[0mscorers\u001b[0m\u001b[1;33m,\u001b[0m \u001b[0mtrain\u001b[0m\u001b[1;33m,\u001b[0m \u001b[0mtest\u001b[0m\u001b[1;33m,\u001b[0m \u001b[0mverbose\u001b[0m\u001b[1;33m,\u001b[0m \u001b[1;32mNone\u001b[0m\u001b[1;33m,\u001b[0m\u001b[1;33m\u001b[0m\u001b[1;33m\u001b[0m\u001b[0m\n",
      "\u001b[1;32mc:\\users\\marko\\appdata\\local\\programs\\python\\python39\\lib\\site-packages\\joblib\\parallel.py\u001b[0m in \u001b[0;36m__call__\u001b[1;34m(self, iterable)\u001b[0m\n\u001b[0;32m   1042\u001b[0m                 \u001b[0mself\u001b[0m\u001b[1;33m.\u001b[0m\u001b[0m_iterating\u001b[0m \u001b[1;33m=\u001b[0m \u001b[0mself\u001b[0m\u001b[1;33m.\u001b[0m\u001b[0m_original_iterator\u001b[0m \u001b[1;32mis\u001b[0m \u001b[1;32mnot\u001b[0m \u001b[1;32mNone\u001b[0m\u001b[1;33m\u001b[0m\u001b[1;33m\u001b[0m\u001b[0m\n\u001b[0;32m   1043\u001b[0m \u001b[1;33m\u001b[0m\u001b[0m\n\u001b[1;32m-> 1044\u001b[1;33m             \u001b[1;32mwhile\u001b[0m \u001b[0mself\u001b[0m\u001b[1;33m.\u001b[0m\u001b[0mdispatch_one_batch\u001b[0m\u001b[1;33m(\u001b[0m\u001b[0miterator\u001b[0m\u001b[1;33m)\u001b[0m\u001b[1;33m:\u001b[0m\u001b[1;33m\u001b[0m\u001b[1;33m\u001b[0m\u001b[0m\n\u001b[0m\u001b[0;32m   1045\u001b[0m                 \u001b[1;32mpass\u001b[0m\u001b[1;33m\u001b[0m\u001b[1;33m\u001b[0m\u001b[0m\n\u001b[0;32m   1046\u001b[0m \u001b[1;33m\u001b[0m\u001b[0m\n",
      "\u001b[1;32mc:\\users\\marko\\appdata\\local\\programs\\python\\python39\\lib\\site-packages\\joblib\\parallel.py\u001b[0m in \u001b[0;36mdispatch_one_batch\u001b[1;34m(self, iterator)\u001b[0m\n\u001b[0;32m    857\u001b[0m                 \u001b[1;32mreturn\u001b[0m \u001b[1;32mFalse\u001b[0m\u001b[1;33m\u001b[0m\u001b[1;33m\u001b[0m\u001b[0m\n\u001b[0;32m    858\u001b[0m             \u001b[1;32melse\u001b[0m\u001b[1;33m:\u001b[0m\u001b[1;33m\u001b[0m\u001b[1;33m\u001b[0m\u001b[0m\n\u001b[1;32m--> 859\u001b[1;33m                 \u001b[0mself\u001b[0m\u001b[1;33m.\u001b[0m\u001b[0m_dispatch\u001b[0m\u001b[1;33m(\u001b[0m\u001b[0mtasks\u001b[0m\u001b[1;33m)\u001b[0m\u001b[1;33m\u001b[0m\u001b[1;33m\u001b[0m\u001b[0m\n\u001b[0m\u001b[0;32m    860\u001b[0m                 \u001b[1;32mreturn\u001b[0m \u001b[1;32mTrue\u001b[0m\u001b[1;33m\u001b[0m\u001b[1;33m\u001b[0m\u001b[0m\n\u001b[0;32m    861\u001b[0m \u001b[1;33m\u001b[0m\u001b[0m\n",
      "\u001b[1;32mc:\\users\\marko\\appdata\\local\\programs\\python\\python39\\lib\\site-packages\\joblib\\parallel.py\u001b[0m in \u001b[0;36m_dispatch\u001b[1;34m(self, batch)\u001b[0m\n\u001b[0;32m    775\u001b[0m         \u001b[1;32mwith\u001b[0m \u001b[0mself\u001b[0m\u001b[1;33m.\u001b[0m\u001b[0m_lock\u001b[0m\u001b[1;33m:\u001b[0m\u001b[1;33m\u001b[0m\u001b[1;33m\u001b[0m\u001b[0m\n\u001b[0;32m    776\u001b[0m             \u001b[0mjob_idx\u001b[0m \u001b[1;33m=\u001b[0m \u001b[0mlen\u001b[0m\u001b[1;33m(\u001b[0m\u001b[0mself\u001b[0m\u001b[1;33m.\u001b[0m\u001b[0m_jobs\u001b[0m\u001b[1;33m)\u001b[0m\u001b[1;33m\u001b[0m\u001b[1;33m\u001b[0m\u001b[0m\n\u001b[1;32m--> 777\u001b[1;33m             \u001b[0mjob\u001b[0m \u001b[1;33m=\u001b[0m \u001b[0mself\u001b[0m\u001b[1;33m.\u001b[0m\u001b[0m_backend\u001b[0m\u001b[1;33m.\u001b[0m\u001b[0mapply_async\u001b[0m\u001b[1;33m(\u001b[0m\u001b[0mbatch\u001b[0m\u001b[1;33m,\u001b[0m \u001b[0mcallback\u001b[0m\u001b[1;33m=\u001b[0m\u001b[0mcb\u001b[0m\u001b[1;33m)\u001b[0m\u001b[1;33m\u001b[0m\u001b[1;33m\u001b[0m\u001b[0m\n\u001b[0m\u001b[0;32m    778\u001b[0m             \u001b[1;31m# A job can complete so quickly than its callback is\u001b[0m\u001b[1;33m\u001b[0m\u001b[1;33m\u001b[0m\u001b[1;33m\u001b[0m\u001b[0m\n\u001b[0;32m    779\u001b[0m             \u001b[1;31m# called before we get here, causing self._jobs to\u001b[0m\u001b[1;33m\u001b[0m\u001b[1;33m\u001b[0m\u001b[1;33m\u001b[0m\u001b[0m\n",
      "\u001b[1;32mc:\\users\\marko\\appdata\\local\\programs\\python\\python39\\lib\\site-packages\\joblib\\_parallel_backends.py\u001b[0m in \u001b[0;36mapply_async\u001b[1;34m(self, func, callback)\u001b[0m\n\u001b[0;32m    206\u001b[0m     \u001b[1;32mdef\u001b[0m \u001b[0mapply_async\u001b[0m\u001b[1;33m(\u001b[0m\u001b[0mself\u001b[0m\u001b[1;33m,\u001b[0m \u001b[0mfunc\u001b[0m\u001b[1;33m,\u001b[0m \u001b[0mcallback\u001b[0m\u001b[1;33m=\u001b[0m\u001b[1;32mNone\u001b[0m\u001b[1;33m)\u001b[0m\u001b[1;33m:\u001b[0m\u001b[1;33m\u001b[0m\u001b[1;33m\u001b[0m\u001b[0m\n\u001b[0;32m    207\u001b[0m         \u001b[1;34m\"\"\"Schedule a func to be run\"\"\"\u001b[0m\u001b[1;33m\u001b[0m\u001b[1;33m\u001b[0m\u001b[0m\n\u001b[1;32m--> 208\u001b[1;33m         \u001b[0mresult\u001b[0m \u001b[1;33m=\u001b[0m \u001b[0mImmediateResult\u001b[0m\u001b[1;33m(\u001b[0m\u001b[0mfunc\u001b[0m\u001b[1;33m)\u001b[0m\u001b[1;33m\u001b[0m\u001b[1;33m\u001b[0m\u001b[0m\n\u001b[0m\u001b[0;32m    209\u001b[0m         \u001b[1;32mif\u001b[0m \u001b[0mcallback\u001b[0m\u001b[1;33m:\u001b[0m\u001b[1;33m\u001b[0m\u001b[1;33m\u001b[0m\u001b[0m\n\u001b[0;32m    210\u001b[0m             \u001b[0mcallback\u001b[0m\u001b[1;33m(\u001b[0m\u001b[0mresult\u001b[0m\u001b[1;33m)\u001b[0m\u001b[1;33m\u001b[0m\u001b[1;33m\u001b[0m\u001b[0m\n",
      "\u001b[1;32mc:\\users\\marko\\appdata\\local\\programs\\python\\python39\\lib\\site-packages\\joblib\\_parallel_backends.py\u001b[0m in \u001b[0;36m__init__\u001b[1;34m(self, batch)\u001b[0m\n\u001b[0;32m    570\u001b[0m         \u001b[1;31m# Don't delay the application, to avoid keeping the input\u001b[0m\u001b[1;33m\u001b[0m\u001b[1;33m\u001b[0m\u001b[1;33m\u001b[0m\u001b[0m\n\u001b[0;32m    571\u001b[0m         \u001b[1;31m# arguments in memory\u001b[0m\u001b[1;33m\u001b[0m\u001b[1;33m\u001b[0m\u001b[1;33m\u001b[0m\u001b[0m\n\u001b[1;32m--> 572\u001b[1;33m         \u001b[0mself\u001b[0m\u001b[1;33m.\u001b[0m\u001b[0mresults\u001b[0m \u001b[1;33m=\u001b[0m \u001b[0mbatch\u001b[0m\u001b[1;33m(\u001b[0m\u001b[1;33m)\u001b[0m\u001b[1;33m\u001b[0m\u001b[1;33m\u001b[0m\u001b[0m\n\u001b[0m\u001b[0;32m    573\u001b[0m \u001b[1;33m\u001b[0m\u001b[0m\n\u001b[0;32m    574\u001b[0m     \u001b[1;32mdef\u001b[0m \u001b[0mget\u001b[0m\u001b[1;33m(\u001b[0m\u001b[0mself\u001b[0m\u001b[1;33m)\u001b[0m\u001b[1;33m:\u001b[0m\u001b[1;33m\u001b[0m\u001b[1;33m\u001b[0m\u001b[0m\n",
      "\u001b[1;32mc:\\users\\marko\\appdata\\local\\programs\\python\\python39\\lib\\site-packages\\joblib\\parallel.py\u001b[0m in \u001b[0;36m__call__\u001b[1;34m(self)\u001b[0m\n\u001b[0;32m    260\u001b[0m         \u001b[1;31m# change the default number of processes to -1\u001b[0m\u001b[1;33m\u001b[0m\u001b[1;33m\u001b[0m\u001b[1;33m\u001b[0m\u001b[0m\n\u001b[0;32m    261\u001b[0m         \u001b[1;32mwith\u001b[0m \u001b[0mparallel_backend\u001b[0m\u001b[1;33m(\u001b[0m\u001b[0mself\u001b[0m\u001b[1;33m.\u001b[0m\u001b[0m_backend\u001b[0m\u001b[1;33m,\u001b[0m \u001b[0mn_jobs\u001b[0m\u001b[1;33m=\u001b[0m\u001b[0mself\u001b[0m\u001b[1;33m.\u001b[0m\u001b[0m_n_jobs\u001b[0m\u001b[1;33m)\u001b[0m\u001b[1;33m:\u001b[0m\u001b[1;33m\u001b[0m\u001b[1;33m\u001b[0m\u001b[0m\n\u001b[1;32m--> 262\u001b[1;33m             return [func(*args, **kwargs)\n\u001b[0m\u001b[0;32m    263\u001b[0m                     for func, args, kwargs in self.items]\n\u001b[0;32m    264\u001b[0m \u001b[1;33m\u001b[0m\u001b[0m\n",
      "\u001b[1;32mc:\\users\\marko\\appdata\\local\\programs\\python\\python39\\lib\\site-packages\\joblib\\parallel.py\u001b[0m in \u001b[0;36m<listcomp>\u001b[1;34m(.0)\u001b[0m\n\u001b[0;32m    260\u001b[0m         \u001b[1;31m# change the default number of processes to -1\u001b[0m\u001b[1;33m\u001b[0m\u001b[1;33m\u001b[0m\u001b[1;33m\u001b[0m\u001b[0m\n\u001b[0;32m    261\u001b[0m         \u001b[1;32mwith\u001b[0m \u001b[0mparallel_backend\u001b[0m\u001b[1;33m(\u001b[0m\u001b[0mself\u001b[0m\u001b[1;33m.\u001b[0m\u001b[0m_backend\u001b[0m\u001b[1;33m,\u001b[0m \u001b[0mn_jobs\u001b[0m\u001b[1;33m=\u001b[0m\u001b[0mself\u001b[0m\u001b[1;33m.\u001b[0m\u001b[0m_n_jobs\u001b[0m\u001b[1;33m)\u001b[0m\u001b[1;33m:\u001b[0m\u001b[1;33m\u001b[0m\u001b[1;33m\u001b[0m\u001b[0m\n\u001b[1;32m--> 262\u001b[1;33m             return [func(*args, **kwargs)\n\u001b[0m\u001b[0;32m    263\u001b[0m                     for func, args, kwargs in self.items]\n\u001b[0;32m    264\u001b[0m \u001b[1;33m\u001b[0m\u001b[0m\n",
      "\u001b[1;32mc:\\users\\marko\\appdata\\local\\programs\\python\\python39\\lib\\site-packages\\sklearn\\utils\\fixes.py\u001b[0m in \u001b[0;36m__call__\u001b[1;34m(self, *args, **kwargs)\u001b[0m\n\u001b[0;32m    220\u001b[0m     \u001b[1;32mdef\u001b[0m \u001b[0m__call__\u001b[0m\u001b[1;33m(\u001b[0m\u001b[0mself\u001b[0m\u001b[1;33m,\u001b[0m \u001b[1;33m*\u001b[0m\u001b[0margs\u001b[0m\u001b[1;33m,\u001b[0m \u001b[1;33m**\u001b[0m\u001b[0mkwargs\u001b[0m\u001b[1;33m)\u001b[0m\u001b[1;33m:\u001b[0m\u001b[1;33m\u001b[0m\u001b[1;33m\u001b[0m\u001b[0m\n\u001b[0;32m    221\u001b[0m         \u001b[1;32mwith\u001b[0m \u001b[0mconfig_context\u001b[0m\u001b[1;33m(\u001b[0m\u001b[1;33m**\u001b[0m\u001b[0mself\u001b[0m\u001b[1;33m.\u001b[0m\u001b[0mconfig\u001b[0m\u001b[1;33m)\u001b[0m\u001b[1;33m:\u001b[0m\u001b[1;33m\u001b[0m\u001b[1;33m\u001b[0m\u001b[0m\n\u001b[1;32m--> 222\u001b[1;33m             \u001b[1;32mreturn\u001b[0m \u001b[0mself\u001b[0m\u001b[1;33m.\u001b[0m\u001b[0mfunction\u001b[0m\u001b[1;33m(\u001b[0m\u001b[1;33m*\u001b[0m\u001b[0margs\u001b[0m\u001b[1;33m,\u001b[0m \u001b[1;33m**\u001b[0m\u001b[0mkwargs\u001b[0m\u001b[1;33m)\u001b[0m\u001b[1;33m\u001b[0m\u001b[1;33m\u001b[0m\u001b[0m\n\u001b[0m",
      "\u001b[1;32mc:\\users\\marko\\appdata\\local\\programs\\python\\python39\\lib\\site-packages\\sklearn\\model_selection\\_validation.py\u001b[0m in \u001b[0;36m_fit_and_score\u001b[1;34m(estimator, X, y, scorer, train, test, verbose, parameters, fit_params, return_train_score, return_parameters, return_n_test_samples, return_times, return_estimator, split_progress, candidate_progress, error_score)\u001b[0m\n\u001b[0;32m    618\u001b[0m \u001b[1;33m\u001b[0m\u001b[0m\n\u001b[0;32m    619\u001b[0m         \u001b[0mfit_time\u001b[0m \u001b[1;33m=\u001b[0m \u001b[0mtime\u001b[0m\u001b[1;33m.\u001b[0m\u001b[0mtime\u001b[0m\u001b[1;33m(\u001b[0m\u001b[1;33m)\u001b[0m \u001b[1;33m-\u001b[0m \u001b[0mstart_time\u001b[0m\u001b[1;33m\u001b[0m\u001b[1;33m\u001b[0m\u001b[0m\n\u001b[1;32m--> 620\u001b[1;33m         \u001b[0mtest_scores\u001b[0m \u001b[1;33m=\u001b[0m \u001b[0m_score\u001b[0m\u001b[1;33m(\u001b[0m\u001b[0mestimator\u001b[0m\u001b[1;33m,\u001b[0m \u001b[0mX_test\u001b[0m\u001b[1;33m,\u001b[0m \u001b[0my_test\u001b[0m\u001b[1;33m,\u001b[0m \u001b[0mscorer\u001b[0m\u001b[1;33m,\u001b[0m \u001b[0merror_score\u001b[0m\u001b[1;33m)\u001b[0m\u001b[1;33m\u001b[0m\u001b[1;33m\u001b[0m\u001b[0m\n\u001b[0m\u001b[0;32m    621\u001b[0m         \u001b[0mscore_time\u001b[0m \u001b[1;33m=\u001b[0m \u001b[0mtime\u001b[0m\u001b[1;33m.\u001b[0m\u001b[0mtime\u001b[0m\u001b[1;33m(\u001b[0m\u001b[1;33m)\u001b[0m \u001b[1;33m-\u001b[0m \u001b[0mstart_time\u001b[0m \u001b[1;33m-\u001b[0m \u001b[0mfit_time\u001b[0m\u001b[1;33m\u001b[0m\u001b[1;33m\u001b[0m\u001b[0m\n\u001b[0;32m    622\u001b[0m         \u001b[1;32mif\u001b[0m \u001b[0mreturn_train_score\u001b[0m\u001b[1;33m:\u001b[0m\u001b[1;33m\u001b[0m\u001b[1;33m\u001b[0m\u001b[0m\n",
      "\u001b[1;32mc:\\users\\marko\\appdata\\local\\programs\\python\\python39\\lib\\site-packages\\sklearn\\model_selection\\_validation.py\u001b[0m in \u001b[0;36m_score\u001b[1;34m(estimator, X_test, y_test, scorer, error_score)\u001b[0m\n\u001b[0;32m    672\u001b[0m             \u001b[0mscores\u001b[0m \u001b[1;33m=\u001b[0m \u001b[0mscorer\u001b[0m\u001b[1;33m(\u001b[0m\u001b[0mestimator\u001b[0m\u001b[1;33m,\u001b[0m \u001b[0mX_test\u001b[0m\u001b[1;33m)\u001b[0m\u001b[1;33m\u001b[0m\u001b[1;33m\u001b[0m\u001b[0m\n\u001b[0;32m    673\u001b[0m         \u001b[1;32melse\u001b[0m\u001b[1;33m:\u001b[0m\u001b[1;33m\u001b[0m\u001b[1;33m\u001b[0m\u001b[0m\n\u001b[1;32m--> 674\u001b[1;33m             \u001b[0mscores\u001b[0m \u001b[1;33m=\u001b[0m \u001b[0mscorer\u001b[0m\u001b[1;33m(\u001b[0m\u001b[0mestimator\u001b[0m\u001b[1;33m,\u001b[0m \u001b[0mX_test\u001b[0m\u001b[1;33m,\u001b[0m \u001b[0my_test\u001b[0m\u001b[1;33m)\u001b[0m\u001b[1;33m\u001b[0m\u001b[1;33m\u001b[0m\u001b[0m\n\u001b[0m\u001b[0;32m    675\u001b[0m     \u001b[1;32mexcept\u001b[0m \u001b[0mException\u001b[0m\u001b[1;33m:\u001b[0m\u001b[1;33m\u001b[0m\u001b[1;33m\u001b[0m\u001b[0m\n\u001b[0;32m    676\u001b[0m         \u001b[1;32mif\u001b[0m \u001b[0merror_score\u001b[0m \u001b[1;33m==\u001b[0m \u001b[1;34m'raise'\u001b[0m\u001b[1;33m:\u001b[0m\u001b[1;33m\u001b[0m\u001b[1;33m\u001b[0m\u001b[0m\n",
      "\u001b[1;32mc:\\users\\marko\\appdata\\local\\programs\\python\\python39\\lib\\site-packages\\sklearn\\metrics\\_scorer.py\u001b[0m in \u001b[0;36m__call__\u001b[1;34m(self, estimator, *args, **kwargs)\u001b[0m\n\u001b[0;32m     85\u001b[0m         \u001b[1;32mfor\u001b[0m \u001b[0mname\u001b[0m\u001b[1;33m,\u001b[0m \u001b[0mscorer\u001b[0m \u001b[1;32min\u001b[0m \u001b[0mself\u001b[0m\u001b[1;33m.\u001b[0m\u001b[0m_scorers\u001b[0m\u001b[1;33m.\u001b[0m\u001b[0mitems\u001b[0m\u001b[1;33m(\u001b[0m\u001b[1;33m)\u001b[0m\u001b[1;33m:\u001b[0m\u001b[1;33m\u001b[0m\u001b[1;33m\u001b[0m\u001b[0m\n\u001b[0;32m     86\u001b[0m             \u001b[1;32mif\u001b[0m \u001b[0misinstance\u001b[0m\u001b[1;33m(\u001b[0m\u001b[0mscorer\u001b[0m\u001b[1;33m,\u001b[0m \u001b[0m_BaseScorer\u001b[0m\u001b[1;33m)\u001b[0m\u001b[1;33m:\u001b[0m\u001b[1;33m\u001b[0m\u001b[1;33m\u001b[0m\u001b[0m\n\u001b[1;32m---> 87\u001b[1;33m                 score = scorer._score(cached_call, estimator,\n\u001b[0m\u001b[0;32m     88\u001b[0m                                       *args, **kwargs)\n\u001b[0;32m     89\u001b[0m             \u001b[1;32melse\u001b[0m\u001b[1;33m:\u001b[0m\u001b[1;33m\u001b[0m\u001b[1;33m\u001b[0m\u001b[0m\n",
      "\u001b[1;32mc:\\users\\marko\\appdata\\local\\programs\\python\\python39\\lib\\site-packages\\sklearn\\metrics\\_scorer.py\u001b[0m in \u001b[0;36m_score\u001b[1;34m(self, method_caller, estimator, X, y_true, sample_weight)\u001b[0m\n\u001b[0;32m    234\u001b[0m         \"\"\"\n\u001b[0;32m    235\u001b[0m \u001b[1;33m\u001b[0m\u001b[0m\n\u001b[1;32m--> 236\u001b[1;33m         \u001b[0my_pred\u001b[0m \u001b[1;33m=\u001b[0m \u001b[0mmethod_caller\u001b[0m\u001b[1;33m(\u001b[0m\u001b[0mestimator\u001b[0m\u001b[1;33m,\u001b[0m \u001b[1;34m\"predict\"\u001b[0m\u001b[1;33m,\u001b[0m \u001b[0mX\u001b[0m\u001b[1;33m)\u001b[0m\u001b[1;33m\u001b[0m\u001b[1;33m\u001b[0m\u001b[0m\n\u001b[0m\u001b[0;32m    237\u001b[0m         \u001b[1;32mif\u001b[0m \u001b[0msample_weight\u001b[0m \u001b[1;32mis\u001b[0m \u001b[1;32mnot\u001b[0m \u001b[1;32mNone\u001b[0m\u001b[1;33m:\u001b[0m\u001b[1;33m\u001b[0m\u001b[1;33m\u001b[0m\u001b[0m\n\u001b[0;32m    238\u001b[0m             return self._sign * self._score_func(y_true, y_pred,\n",
      "\u001b[1;32mc:\\users\\marko\\appdata\\local\\programs\\python\\python39\\lib\\site-packages\\sklearn\\metrics\\_scorer.py\u001b[0m in \u001b[0;36m_cached_call\u001b[1;34m(cache, estimator, method, *args, **kwargs)\u001b[0m\n\u001b[0;32m     51\u001b[0m     \u001b[1;34m\"\"\"Call estimator with method and args and kwargs.\"\"\"\u001b[0m\u001b[1;33m\u001b[0m\u001b[1;33m\u001b[0m\u001b[0m\n\u001b[0;32m     52\u001b[0m     \u001b[1;32mif\u001b[0m \u001b[0mcache\u001b[0m \u001b[1;32mis\u001b[0m \u001b[1;32mNone\u001b[0m\u001b[1;33m:\u001b[0m\u001b[1;33m\u001b[0m\u001b[1;33m\u001b[0m\u001b[0m\n\u001b[1;32m---> 53\u001b[1;33m         \u001b[1;32mreturn\u001b[0m \u001b[0mgetattr\u001b[0m\u001b[1;33m(\u001b[0m\u001b[0mestimator\u001b[0m\u001b[1;33m,\u001b[0m \u001b[0mmethod\u001b[0m\u001b[1;33m)\u001b[0m\u001b[1;33m(\u001b[0m\u001b[1;33m*\u001b[0m\u001b[0margs\u001b[0m\u001b[1;33m,\u001b[0m \u001b[1;33m**\u001b[0m\u001b[0mkwargs\u001b[0m\u001b[1;33m)\u001b[0m\u001b[1;33m\u001b[0m\u001b[1;33m\u001b[0m\u001b[0m\n\u001b[0m\u001b[0;32m     54\u001b[0m \u001b[1;33m\u001b[0m\u001b[0m\n\u001b[0;32m     55\u001b[0m     \u001b[1;32mtry\u001b[0m\u001b[1;33m:\u001b[0m\u001b[1;33m\u001b[0m\u001b[1;33m\u001b[0m\u001b[0m\n",
      "\u001b[1;32mc:\\users\\marko\\appdata\\local\\programs\\python\\python39\\lib\\site-packages\\sklearn\\neighbors\\_classification.py\u001b[0m in \u001b[0;36mpredict\u001b[1;34m(self, X)\u001b[0m\n\u001b[0;32m    195\u001b[0m         \u001b[0mX\u001b[0m \u001b[1;33m=\u001b[0m \u001b[0mcheck_array\u001b[0m\u001b[1;33m(\u001b[0m\u001b[0mX\u001b[0m\u001b[1;33m,\u001b[0m \u001b[0maccept_sparse\u001b[0m\u001b[1;33m=\u001b[0m\u001b[1;34m'csr'\u001b[0m\u001b[1;33m)\u001b[0m\u001b[1;33m\u001b[0m\u001b[1;33m\u001b[0m\u001b[0m\n\u001b[0;32m    196\u001b[0m \u001b[1;33m\u001b[0m\u001b[0m\n\u001b[1;32m--> 197\u001b[1;33m         \u001b[0mneigh_dist\u001b[0m\u001b[1;33m,\u001b[0m \u001b[0mneigh_ind\u001b[0m \u001b[1;33m=\u001b[0m \u001b[0mself\u001b[0m\u001b[1;33m.\u001b[0m\u001b[0mkneighbors\u001b[0m\u001b[1;33m(\u001b[0m\u001b[0mX\u001b[0m\u001b[1;33m)\u001b[0m\u001b[1;33m\u001b[0m\u001b[1;33m\u001b[0m\u001b[0m\n\u001b[0m\u001b[0;32m    198\u001b[0m         \u001b[0mclasses_\u001b[0m \u001b[1;33m=\u001b[0m \u001b[0mself\u001b[0m\u001b[1;33m.\u001b[0m\u001b[0mclasses_\u001b[0m\u001b[1;33m\u001b[0m\u001b[1;33m\u001b[0m\u001b[0m\n\u001b[0;32m    199\u001b[0m         \u001b[0m_y\u001b[0m \u001b[1;33m=\u001b[0m \u001b[0mself\u001b[0m\u001b[1;33m.\u001b[0m\u001b[0m_y\u001b[0m\u001b[1;33m\u001b[0m\u001b[1;33m\u001b[0m\u001b[0m\n",
      "\u001b[1;32mc:\\users\\marko\\appdata\\local\\programs\\python\\python39\\lib\\site-packages\\sklearn\\neighbors\\_base.py\u001b[0m in \u001b[0;36mkneighbors\u001b[1;34m(self, X, n_neighbors, return_distance)\u001b[0m\n\u001b[0;32m    703\u001b[0m                 \u001b[0mkwds\u001b[0m \u001b[1;33m=\u001b[0m \u001b[0mself\u001b[0m\u001b[1;33m.\u001b[0m\u001b[0meffective_metric_params_\u001b[0m\u001b[1;33m\u001b[0m\u001b[1;33m\u001b[0m\u001b[0m\n\u001b[0;32m    704\u001b[0m \u001b[1;33m\u001b[0m\u001b[0m\n\u001b[1;32m--> 705\u001b[1;33m             chunked_results = list(pairwise_distances_chunked(\n\u001b[0m\u001b[0;32m    706\u001b[0m                 \u001b[0mX\u001b[0m\u001b[1;33m,\u001b[0m \u001b[0mself\u001b[0m\u001b[1;33m.\u001b[0m\u001b[0m_fit_X\u001b[0m\u001b[1;33m,\u001b[0m \u001b[0mreduce_func\u001b[0m\u001b[1;33m=\u001b[0m\u001b[0mreduce_func\u001b[0m\u001b[1;33m,\u001b[0m\u001b[1;33m\u001b[0m\u001b[1;33m\u001b[0m\u001b[0m\n\u001b[0;32m    707\u001b[0m                 \u001b[0mmetric\u001b[0m\u001b[1;33m=\u001b[0m\u001b[0mself\u001b[0m\u001b[1;33m.\u001b[0m\u001b[0meffective_metric_\u001b[0m\u001b[1;33m,\u001b[0m \u001b[0mn_jobs\u001b[0m\u001b[1;33m=\u001b[0m\u001b[0mn_jobs\u001b[0m\u001b[1;33m,\u001b[0m\u001b[1;33m\u001b[0m\u001b[1;33m\u001b[0m\u001b[0m\n",
      "\u001b[1;32mc:\\users\\marko\\appdata\\local\\programs\\python\\python39\\lib\\site-packages\\sklearn\\metrics\\pairwise.py\u001b[0m in \u001b[0;36mpairwise_distances_chunked\u001b[1;34m(X, Y, reduce_func, metric, n_jobs, working_memory, **kwds)\u001b[0m\n\u001b[0;32m   1621\u001b[0m         \u001b[1;32melse\u001b[0m\u001b[1;33m:\u001b[0m\u001b[1;33m\u001b[0m\u001b[1;33m\u001b[0m\u001b[0m\n\u001b[0;32m   1622\u001b[0m             \u001b[0mX_chunk\u001b[0m \u001b[1;33m=\u001b[0m \u001b[0mX\u001b[0m\u001b[1;33m[\u001b[0m\u001b[0msl\u001b[0m\u001b[1;33m]\u001b[0m\u001b[1;33m\u001b[0m\u001b[1;33m\u001b[0m\u001b[0m\n\u001b[1;32m-> 1623\u001b[1;33m         D_chunk = pairwise_distances(X_chunk, Y, metric=metric,\n\u001b[0m\u001b[0;32m   1624\u001b[0m                                      n_jobs=n_jobs, **kwds)\n\u001b[0;32m   1625\u001b[0m         if ((X is Y or Y is None)\n",
      "\u001b[1;32mc:\\users\\marko\\appdata\\local\\programs\\python\\python39\\lib\\site-packages\\sklearn\\utils\\validation.py\u001b[0m in \u001b[0;36minner_f\u001b[1;34m(*args, **kwargs)\u001b[0m\n\u001b[0;32m     61\u001b[0m             \u001b[0mextra_args\u001b[0m \u001b[1;33m=\u001b[0m \u001b[0mlen\u001b[0m\u001b[1;33m(\u001b[0m\u001b[0margs\u001b[0m\u001b[1;33m)\u001b[0m \u001b[1;33m-\u001b[0m \u001b[0mlen\u001b[0m\u001b[1;33m(\u001b[0m\u001b[0mall_args\u001b[0m\u001b[1;33m)\u001b[0m\u001b[1;33m\u001b[0m\u001b[1;33m\u001b[0m\u001b[0m\n\u001b[0;32m     62\u001b[0m             \u001b[1;32mif\u001b[0m \u001b[0mextra_args\u001b[0m \u001b[1;33m<=\u001b[0m \u001b[1;36m0\u001b[0m\u001b[1;33m:\u001b[0m\u001b[1;33m\u001b[0m\u001b[1;33m\u001b[0m\u001b[0m\n\u001b[1;32m---> 63\u001b[1;33m                 \u001b[1;32mreturn\u001b[0m \u001b[0mf\u001b[0m\u001b[1;33m(\u001b[0m\u001b[1;33m*\u001b[0m\u001b[0margs\u001b[0m\u001b[1;33m,\u001b[0m \u001b[1;33m**\u001b[0m\u001b[0mkwargs\u001b[0m\u001b[1;33m)\u001b[0m\u001b[1;33m\u001b[0m\u001b[1;33m\u001b[0m\u001b[0m\n\u001b[0m\u001b[0;32m     64\u001b[0m \u001b[1;33m\u001b[0m\u001b[0m\n\u001b[0;32m     65\u001b[0m             \u001b[1;31m# extra_args > 0\u001b[0m\u001b[1;33m\u001b[0m\u001b[1;33m\u001b[0m\u001b[1;33m\u001b[0m\u001b[0m\n",
      "\u001b[1;32mc:\\users\\marko\\appdata\\local\\programs\\python\\python39\\lib\\site-packages\\sklearn\\metrics\\pairwise.py\u001b[0m in \u001b[0;36mpairwise_distances\u001b[1;34m(X, Y, metric, n_jobs, force_all_finite, **kwds)\u001b[0m\n\u001b[0;32m   1788\u001b[0m         \u001b[0mfunc\u001b[0m \u001b[1;33m=\u001b[0m \u001b[0mpartial\u001b[0m\u001b[1;33m(\u001b[0m\u001b[0mdistance\u001b[0m\u001b[1;33m.\u001b[0m\u001b[0mcdist\u001b[0m\u001b[1;33m,\u001b[0m \u001b[0mmetric\u001b[0m\u001b[1;33m=\u001b[0m\u001b[0mmetric\u001b[0m\u001b[1;33m,\u001b[0m \u001b[1;33m**\u001b[0m\u001b[0mkwds\u001b[0m\u001b[1;33m)\u001b[0m\u001b[1;33m\u001b[0m\u001b[1;33m\u001b[0m\u001b[0m\n\u001b[0;32m   1789\u001b[0m \u001b[1;33m\u001b[0m\u001b[0m\n\u001b[1;32m-> 1790\u001b[1;33m     \u001b[1;32mreturn\u001b[0m \u001b[0m_parallel_pairwise\u001b[0m\u001b[1;33m(\u001b[0m\u001b[0mX\u001b[0m\u001b[1;33m,\u001b[0m \u001b[0mY\u001b[0m\u001b[1;33m,\u001b[0m \u001b[0mfunc\u001b[0m\u001b[1;33m,\u001b[0m \u001b[0mn_jobs\u001b[0m\u001b[1;33m,\u001b[0m \u001b[1;33m**\u001b[0m\u001b[0mkwds\u001b[0m\u001b[1;33m)\u001b[0m\u001b[1;33m\u001b[0m\u001b[1;33m\u001b[0m\u001b[0m\n\u001b[0m\u001b[0;32m   1791\u001b[0m \u001b[1;33m\u001b[0m\u001b[0m\n\u001b[0;32m   1792\u001b[0m \u001b[1;33m\u001b[0m\u001b[0m\n",
      "\u001b[1;32mc:\\users\\marko\\appdata\\local\\programs\\python\\python39\\lib\\site-packages\\sklearn\\metrics\\pairwise.py\u001b[0m in \u001b[0;36m_parallel_pairwise\u001b[1;34m(X, Y, func, n_jobs, **kwds)\u001b[0m\n\u001b[0;32m   1357\u001b[0m \u001b[1;33m\u001b[0m\u001b[0m\n\u001b[0;32m   1358\u001b[0m     \u001b[1;32mif\u001b[0m \u001b[0meffective_n_jobs\u001b[0m\u001b[1;33m(\u001b[0m\u001b[0mn_jobs\u001b[0m\u001b[1;33m)\u001b[0m \u001b[1;33m==\u001b[0m \u001b[1;36m1\u001b[0m\u001b[1;33m:\u001b[0m\u001b[1;33m\u001b[0m\u001b[1;33m\u001b[0m\u001b[0m\n\u001b[1;32m-> 1359\u001b[1;33m         \u001b[1;32mreturn\u001b[0m \u001b[0mfunc\u001b[0m\u001b[1;33m(\u001b[0m\u001b[0mX\u001b[0m\u001b[1;33m,\u001b[0m \u001b[0mY\u001b[0m\u001b[1;33m,\u001b[0m \u001b[1;33m**\u001b[0m\u001b[0mkwds\u001b[0m\u001b[1;33m)\u001b[0m\u001b[1;33m\u001b[0m\u001b[1;33m\u001b[0m\u001b[0m\n\u001b[0m\u001b[0;32m   1360\u001b[0m \u001b[1;33m\u001b[0m\u001b[0m\n\u001b[0;32m   1361\u001b[0m     \u001b[1;31m# enforce a threading backend to prevent data communication overhead\u001b[0m\u001b[1;33m\u001b[0m\u001b[1;33m\u001b[0m\u001b[1;33m\u001b[0m\u001b[0m\n",
      "\u001b[1;32mc:\\users\\marko\\appdata\\local\\programs\\python\\python39\\lib\\site-packages\\sklearn\\utils\\validation.py\u001b[0m in \u001b[0;36minner_f\u001b[1;34m(*args, **kwargs)\u001b[0m\n\u001b[0;32m     61\u001b[0m             \u001b[0mextra_args\u001b[0m \u001b[1;33m=\u001b[0m \u001b[0mlen\u001b[0m\u001b[1;33m(\u001b[0m\u001b[0margs\u001b[0m\u001b[1;33m)\u001b[0m \u001b[1;33m-\u001b[0m \u001b[0mlen\u001b[0m\u001b[1;33m(\u001b[0m\u001b[0mall_args\u001b[0m\u001b[1;33m)\u001b[0m\u001b[1;33m\u001b[0m\u001b[1;33m\u001b[0m\u001b[0m\n\u001b[0;32m     62\u001b[0m             \u001b[1;32mif\u001b[0m \u001b[0mextra_args\u001b[0m \u001b[1;33m<=\u001b[0m \u001b[1;36m0\u001b[0m\u001b[1;33m:\u001b[0m\u001b[1;33m\u001b[0m\u001b[1;33m\u001b[0m\u001b[0m\n\u001b[1;32m---> 63\u001b[1;33m                 \u001b[1;32mreturn\u001b[0m \u001b[0mf\u001b[0m\u001b[1;33m(\u001b[0m\u001b[1;33m*\u001b[0m\u001b[0margs\u001b[0m\u001b[1;33m,\u001b[0m \u001b[1;33m**\u001b[0m\u001b[0mkwargs\u001b[0m\u001b[1;33m)\u001b[0m\u001b[1;33m\u001b[0m\u001b[1;33m\u001b[0m\u001b[0m\n\u001b[0m\u001b[0;32m     64\u001b[0m \u001b[1;33m\u001b[0m\u001b[0m\n\u001b[0;32m     65\u001b[0m             \u001b[1;31m# extra_args > 0\u001b[0m\u001b[1;33m\u001b[0m\u001b[1;33m\u001b[0m\u001b[1;33m\u001b[0m\u001b[0m\n",
      "\u001b[1;32mc:\\users\\marko\\appdata\\local\\programs\\python\\python39\\lib\\site-packages\\sklearn\\metrics\\pairwise.py\u001b[0m in \u001b[0;36meuclidean_distances\u001b[1;34m(X, Y, Y_norm_squared, squared, X_norm_squared)\u001b[0m\n\u001b[0;32m    311\u001b[0m     \u001b[1;32melse\u001b[0m\u001b[1;33m:\u001b[0m\u001b[1;33m\u001b[0m\u001b[1;33m\u001b[0m\u001b[0m\n\u001b[0;32m    312\u001b[0m         \u001b[1;31m# if dtype is already float64, no need to chunk and upcast\u001b[0m\u001b[1;33m\u001b[0m\u001b[1;33m\u001b[0m\u001b[1;33m\u001b[0m\u001b[0m\n\u001b[1;32m--> 313\u001b[1;33m         \u001b[0mdistances\u001b[0m \u001b[1;33m=\u001b[0m \u001b[1;33m-\u001b[0m \u001b[1;36m2\u001b[0m \u001b[1;33m*\u001b[0m \u001b[0msafe_sparse_dot\u001b[0m\u001b[1;33m(\u001b[0m\u001b[0mX\u001b[0m\u001b[1;33m,\u001b[0m \u001b[0mY\u001b[0m\u001b[1;33m.\u001b[0m\u001b[0mT\u001b[0m\u001b[1;33m,\u001b[0m \u001b[0mdense_output\u001b[0m\u001b[1;33m=\u001b[0m\u001b[1;32mTrue\u001b[0m\u001b[1;33m)\u001b[0m\u001b[1;33m\u001b[0m\u001b[1;33m\u001b[0m\u001b[0m\n\u001b[0m\u001b[0;32m    314\u001b[0m         \u001b[0mdistances\u001b[0m \u001b[1;33m+=\u001b[0m \u001b[0mXX\u001b[0m\u001b[1;33m\u001b[0m\u001b[1;33m\u001b[0m\u001b[0m\n\u001b[0;32m    315\u001b[0m         \u001b[0mdistances\u001b[0m \u001b[1;33m+=\u001b[0m \u001b[0mYY\u001b[0m\u001b[1;33m\u001b[0m\u001b[1;33m\u001b[0m\u001b[0m\n",
      "\u001b[1;32mc:\\users\\marko\\appdata\\local\\programs\\python\\python39\\lib\\site-packages\\sklearn\\utils\\validation.py\u001b[0m in \u001b[0;36minner_f\u001b[1;34m(*args, **kwargs)\u001b[0m\n\u001b[0;32m     61\u001b[0m             \u001b[0mextra_args\u001b[0m \u001b[1;33m=\u001b[0m \u001b[0mlen\u001b[0m\u001b[1;33m(\u001b[0m\u001b[0margs\u001b[0m\u001b[1;33m)\u001b[0m \u001b[1;33m-\u001b[0m \u001b[0mlen\u001b[0m\u001b[1;33m(\u001b[0m\u001b[0mall_args\u001b[0m\u001b[1;33m)\u001b[0m\u001b[1;33m\u001b[0m\u001b[1;33m\u001b[0m\u001b[0m\n\u001b[0;32m     62\u001b[0m             \u001b[1;32mif\u001b[0m \u001b[0mextra_args\u001b[0m \u001b[1;33m<=\u001b[0m \u001b[1;36m0\u001b[0m\u001b[1;33m:\u001b[0m\u001b[1;33m\u001b[0m\u001b[1;33m\u001b[0m\u001b[0m\n\u001b[1;32m---> 63\u001b[1;33m                 \u001b[1;32mreturn\u001b[0m \u001b[0mf\u001b[0m\u001b[1;33m(\u001b[0m\u001b[1;33m*\u001b[0m\u001b[0margs\u001b[0m\u001b[1;33m,\u001b[0m \u001b[1;33m**\u001b[0m\u001b[0mkwargs\u001b[0m\u001b[1;33m)\u001b[0m\u001b[1;33m\u001b[0m\u001b[1;33m\u001b[0m\u001b[0m\n\u001b[0m\u001b[0;32m     64\u001b[0m \u001b[1;33m\u001b[0m\u001b[0m\n\u001b[0;32m     65\u001b[0m             \u001b[1;31m# extra_args > 0\u001b[0m\u001b[1;33m\u001b[0m\u001b[1;33m\u001b[0m\u001b[1;33m\u001b[0m\u001b[0m\n",
      "\u001b[1;32mc:\\users\\marko\\appdata\\local\\programs\\python\\python39\\lib\\site-packages\\sklearn\\utils\\extmath.py\u001b[0m in \u001b[0;36msafe_sparse_dot\u001b[1;34m(a, b, dense_output)\u001b[0m\n\u001b[0;32m    154\u001b[0m     if (sparse.issparse(a) and sparse.issparse(b)\n\u001b[0;32m    155\u001b[0m             and dense_output and hasattr(ret, \"toarray\")):\n\u001b[1;32m--> 156\u001b[1;33m         \u001b[1;32mreturn\u001b[0m \u001b[0mret\u001b[0m\u001b[1;33m.\u001b[0m\u001b[0mtoarray\u001b[0m\u001b[1;33m(\u001b[0m\u001b[1;33m)\u001b[0m\u001b[1;33m\u001b[0m\u001b[1;33m\u001b[0m\u001b[0m\n\u001b[0m\u001b[0;32m    157\u001b[0m     \u001b[1;32mreturn\u001b[0m \u001b[0mret\u001b[0m\u001b[1;33m\u001b[0m\u001b[1;33m\u001b[0m\u001b[0m\n\u001b[0;32m    158\u001b[0m \u001b[1;33m\u001b[0m\u001b[0m\n",
      "\u001b[1;32mc:\\users\\marko\\appdata\\local\\programs\\python\\python39\\lib\\site-packages\\scipy\\sparse\\compressed.py\u001b[0m in \u001b[0;36mtoarray\u001b[1;34m(self, order, out)\u001b[0m\n\u001b[0;32m   1040\u001b[0m             \u001b[0my\u001b[0m \u001b[1;33m=\u001b[0m \u001b[0mout\u001b[0m\u001b[1;33m.\u001b[0m\u001b[0mT\u001b[0m\u001b[1;33m\u001b[0m\u001b[1;33m\u001b[0m\u001b[0m\n\u001b[0;32m   1041\u001b[0m         \u001b[0mM\u001b[0m\u001b[1;33m,\u001b[0m \u001b[0mN\u001b[0m \u001b[1;33m=\u001b[0m \u001b[0mx\u001b[0m\u001b[1;33m.\u001b[0m\u001b[0m_swap\u001b[0m\u001b[1;33m(\u001b[0m\u001b[0mx\u001b[0m\u001b[1;33m.\u001b[0m\u001b[0mshape\u001b[0m\u001b[1;33m)\u001b[0m\u001b[1;33m\u001b[0m\u001b[1;33m\u001b[0m\u001b[0m\n\u001b[1;32m-> 1042\u001b[1;33m         \u001b[0mcsr_todense\u001b[0m\u001b[1;33m(\u001b[0m\u001b[0mM\u001b[0m\u001b[1;33m,\u001b[0m \u001b[0mN\u001b[0m\u001b[1;33m,\u001b[0m \u001b[0mx\u001b[0m\u001b[1;33m.\u001b[0m\u001b[0mindptr\u001b[0m\u001b[1;33m,\u001b[0m \u001b[0mx\u001b[0m\u001b[1;33m.\u001b[0m\u001b[0mindices\u001b[0m\u001b[1;33m,\u001b[0m \u001b[0mx\u001b[0m\u001b[1;33m.\u001b[0m\u001b[0mdata\u001b[0m\u001b[1;33m,\u001b[0m \u001b[0my\u001b[0m\u001b[1;33m)\u001b[0m\u001b[1;33m\u001b[0m\u001b[1;33m\u001b[0m\u001b[0m\n\u001b[0m\u001b[0;32m   1043\u001b[0m         \u001b[1;32mreturn\u001b[0m \u001b[0mout\u001b[0m\u001b[1;33m\u001b[0m\u001b[1;33m\u001b[0m\u001b[0m\n\u001b[0;32m   1044\u001b[0m \u001b[1;33m\u001b[0m\u001b[0m\n",
      "\u001b[1;31mKeyboardInterrupt\u001b[0m: "
     ]
    }
   ],
   "source": [
    "from sklearn.base import clone\n",
    "from sklearn.neighbors import KNeighborsClassifier\n",
    "from sklearn.ensemble import RandomForestClassifier\n",
    "from sklearn.svm import SVC\n",
    "from sklearn.naive_bayes import GaussianNB\n",
    "from sklearn.model_selection import cross_val_score\n",
    "\n",
    "x_processed = preprocessing_pipeline.fit_transform(X_train)\n",
    "\n",
    "print('KNN ', cross_val_score(KNeighborsClassifier(n_neighbors=15), X=x_processed, y=y_train.values.astype(np.uint8), cv=3, scoring='precision'))\n",
    "print('RF ', cross_val_score(RandomForestClassifier(), X=x_processed, y=y_train.values.astype(np.uint8), cv=3, scoring='precision'))\n",
    "print('SVC ', cross_val_score(SVC(), X=x_processed, y=y_train.values.astype(np.uint8), cv=3, scoring='precision'))\n",
    "print('SVC RBF ', cross_val_score(SVC(kernel='rbf'), X=x_processed, y=y_train.values.astype(np.uint8), cv=3, scoring='precision'))\n",
    "print('GNB ', cross_val_score(GaussianNB(), X=x_processed.toarray(), y=y_train.values.astype(np.uint8), cv=3, scoring='precision'))\n",
    "\n",
    "print('KNN ', cross_val_score(KNeighborsClassifier(n_neighbors=15), X=x_processed, y=y_train.values.astype(np.uint8), cv=3, scoring='recall'))\n",
    "print('RF ', cross_val_score(RandomForestClassifier(), X=x_processed, y=y_train.values.astype(np.uint8), cv=3, scoring='recall'))\n",
    "print('SVC ', cross_val_score(SVC(), X=x_processed, y=y_train.values.astype(np.uint8), cv=3, scoring='recall'))\n",
    "print('SVC RBF ', cross_val_score(SVC(kernel='rbf'), X=x_processed, y=y_train.values.astype(np.uint8), cv=3, scoring='recall'))\n",
    "print('GNB ', cross_val_score(GaussianNB(), X=x_processed.toarray(), y=y_train.values.astype(np.uint8), cv=3, scoring='recall'))\n",
    "\n"
   ]
  },
  {
   "cell_type": "code",
   "execution_count": 7,
   "id": "4deea8d1",
   "metadata": {},
   "outputs": [],
   "source": [
    "from sklearn.base import clone\n",
    "from sklearn.neighbors import KNeighborsClassifier\n",
    "from sklearn.ensemble import RandomForestClassifier\n",
    "from sklearn.svm import SVC\n",
    "from sklearn.naive_bayes import GaussianNB\n",
    "\n",
    "\n",
    "knn_pipeline = Pipeline([\n",
    "    ('text_processing', DataTransformer()),\n",
    "    ('text_vectorizer', TfidfVectorizer()),\n",
    "    ('estimator', KNeighborsClassifier())])\n",
    "\n",
    "rf_pipeline  = Pipeline([\n",
    "    ('text_processing', DataTransformer()),\n",
    "    ('text_vectorizer', TfidfVectorizer()),\n",
    "    ('estimator', RandomForestClassifier())])\n",
    "\n",
    "svc_pipeline  = Pipeline([\n",
    "    ('text_processing', DataTransformer()),\n",
    "    ('text_vectorizer', TfidfVectorizer()),\n",
    "    ('estimator', SVC())])\n",
    "\n",
    "svc_rbf_pipeline  = Pipeline([\n",
    "    ('text_processing', DataTransformer()),\n",
    "    ('text_vectorizer', TfidfVectorizer()),\n",
    "    ('estimator', SVC(kernel='rbf'))])\n",
    "\n",
    "gnb_pipeline  = Pipeline([\n",
    "    ('text_processing', DataTransformer()),\n",
    "    ('text_vectorizer', TfidfVectorizer()),\n",
    "    ('estimator', GaussianNB())])"
   ]
  },
  {
   "cell_type": "code",
   "execution_count": 8,
   "id": "5b110cc7",
   "metadata": {},
   "outputs": [],
   "source": [
    "import nltk\n",
    "from nltk.corpus import stopwords\n",
    "\n",
    "set(stopwords.words('english'))\n",
    "\n",
    "svc_params = {\n",
    "    #'text_processing__replaceNumbersFlag':[True, False],\n",
    "    'text_processing__doStemmingFlag':[True, False],\n",
    "    #'text_processing__removeHeadersFlag':[True, False],\n",
    "    'text_processing__toLowerCaseFlag':[True, False],\n",
    "    'text_vectorizer__lowercase':[False],\n",
    "    #'text_processing__replaceNumbersFlag':[True,False],\n",
    "    'text_vectorizer__max_df':[0.25,1],\n",
    "    'text_vectorizer__min_df':[0.01,1],\n",
    "    'text_vectorizer__max_features':[1000,10000, None],\n",
    "    'text_vectorizer__stop_words':[stopwords.words('english'), None],\n",
    "    'estimator__C' : [0.1,1.0,10.0],\n",
    "    'estimator__kernel':['poly', 'rbf', 'sigmoid']\n",
    "    }"
   ]
  },
  {
   "cell_type": "code",
   "execution_count": null,
   "id": "9f3fe54b",
   "metadata": {},
   "outputs": [],
   "source": [
    "svc_pipeline.fit(X_train, y_train.values.astype(np.uint8))"
   ]
  },
  {
   "cell_type": "code",
   "execution_count": 9,
   "id": "f4b73227",
   "metadata": {},
   "outputs": [
    {
     "name": "stdout",
     "output_type": "stream",
     "text": [
      "Fitting 3 folds for each of 864 candidates, totalling 2592 fits\n"
     ]
    },
    {
     "name": "stderr",
     "output_type": "stream",
     "text": [
      "c:\\users\\marko\\appdata\\local\\programs\\python\\python39\\lib\\site-packages\\sklearn\\model_selection\\_search.py:918: UserWarning: One or more of the test scores are non-finite: [-0.2185322  -0.20768544 -0.21920181 -0.20835521 -0.22710233 -0.21933541\n",
      " -0.24116253 -0.240359   -0.22710233 -0.21933541 -0.24384061 -0.24303734\n",
      "         nan         nan -0.24825887 -0.24892843         nan         nan\n",
      " -0.22656648 -0.22736969         nan         nan -0.22094254 -0.22094254\n",
      " -0.2185322  -0.20768544 -0.21906794 -0.20835516 -0.22696841 -0.21933541\n",
      " -0.24116253 -0.240359   -0.22696841 -0.21933541 -0.24384061 -0.24303734\n",
      "         nan         nan -0.24825887 -0.24892843         nan         nan\n",
      " -0.22656648 -0.22736969         nan         nan -0.22094254 -0.22094254\n",
      " -0.22187994 -0.20956014 -0.22134473 -0.20862289 -0.22884316 -0.22362061\n",
      " -0.24303707 -0.24276923 -0.22884316 -0.22362061 -0.24571515 -0.24558128\n",
      "         nan         nan -0.24892843 -0.24799113         nan         nan\n",
      " -0.22482565 -0.22482565         nan         nan -0.22067474 -0.22067474\n",
      " -0.21987164 -0.21237267 -0.22067539 -0.21478306 -0.2254959  -0.22134463\n",
      " -0.24370653 -0.2435726  -0.2254959  -0.22134463 -0.24638476 -0.24638476\n",
      "         nan         nan -0.2481249  -0.24799097         nan         nan\n",
      " -0.22736969 -0.22683422         nan         nan -0.21987137 -0.21987137\n",
      " -0.09989453 -0.08596771 -0.1051166  -0.09078812 -0.10806241 -0.0940022\n",
      " -0.14381533 -0.13337044 -0.10806241 -0.0940022  -0.15144795 -0.14167241\n",
      "         nan         nan -0.25535618 -0.25535618         nan         nan\n",
      " -0.25535618 -0.25535618         nan         nan -0.25535618 -0.25535618\n",
      " -0.09989453 -0.08596771 -0.1051166  -0.09078812 -0.10806241 -0.0940022\n",
      " -0.14408312 -0.1333705  -0.10806241 -0.0940022  -0.15144795 -0.14167241\n",
      "         nan         nan -0.25535618 -0.25535618         nan         nan\n",
      " -0.25535618 -0.25535618         nan         nan -0.25535618 -0.25535618\n",
      " -0.09935895 -0.08409306 -0.1024389  -0.08650335 -0.11355243 -0.09855498\n",
      " -0.15238557 -0.14287777 -0.11355243 -0.09855498 -0.15747328 -0.15158155\n",
      "         nan         nan -0.25535618 -0.25535618         nan         nan\n",
      " -0.25535618 -0.25535618         nan         nan -0.25535618 -0.25535618\n",
      " -0.1025726  -0.094538   -0.10538466 -0.09654625 -0.11435618 -0.10645566\n",
      " -0.15559874 -0.15171558 -0.11435618 -0.10645566 -0.16135629 -0.16068694\n",
      "         nan         nan -0.25535618 -0.25535618         nan         nan\n",
      " -0.25535618 -0.25535618         nan         nan -0.25535618 -0.25535618\n",
      " -0.05034817 -0.05289249 -0.04941082 -0.05329436 -0.04847331 -0.04981264\n",
      " -0.14086667 -0.13939379 -0.04847331 -0.04981264 -0.14541961 -0.14582105\n",
      "         nan         nan -0.25535618 -0.25535618         nan         nan\n",
      " -0.25535618 -0.25535618         nan         nan -0.25535618 -0.25535618\n",
      " -0.05008033 -0.05329415 -0.04941082 -0.05329436 -0.04847331 -0.04967872\n",
      " -0.14086672 -0.13939379 -0.04847331 -0.04967872 -0.14555347 -0.14568713\n",
      "         nan         nan -0.25535618 -0.25535618         nan         nan\n",
      " -0.25535618 -0.25535618         nan         nan -0.25535618 -0.25535618\n",
      " -0.05182127 -0.05543723 -0.05128541 -0.05516955 -0.0476702  -0.05021457\n",
      " -0.14180402 -0.14006335 -0.0476702  -0.05021457 -0.14769613 -0.14608927\n",
      "         nan         nan -0.25535618 -0.25535618         nan         nan\n",
      " -0.25535618 -0.25535618         nan         nan -0.25535618 -0.25535618\n",
      " -0.05182127 -0.05677576 -0.05141966 -0.05624023 -0.0483396  -0.05034828\n",
      " -0.14006329 -0.13952776 -0.0483396  -0.05034828 -0.15064216 -0.14796376\n",
      "         nan         nan -0.25535618 -0.25535618         nan         nan\n",
      " -0.25535618 -0.25535618         nan         nan -0.25535618 -0.25535618\n",
      " -0.10417295 -0.07363871 -0.10189691 -0.07203212 -0.13336813 -0.1316273\n",
      " -0.14823209 -0.14501821 -0.13336813 -0.1316273  -0.15345442 -0.15010673\n",
      "         nan         nan -0.24825887 -0.24892843         nan         nan\n",
      " -0.22656648 -0.22736969         nan         nan -0.22094254 -0.22094254\n",
      " -0.10417295 -0.07377263 -0.10189691 -0.07203212 -0.13336813 -0.13176122\n",
      " -0.14809816 -0.14488435 -0.13336813 -0.13176122 -0.15345442 -0.15010673\n",
      "         nan         nan -0.24825887 -0.24892843         nan         nan\n",
      " -0.22656648 -0.22736969         nan         nan -0.22094254 -0.22094254\n",
      " -0.10283383 -0.03936786 -0.10229863 -0.03843051 -0.13618013 -0.13269846\n",
      " -0.15332045 -0.14903541 -0.13618013 -0.13269846 -0.16014942 -0.15787317\n",
      "         nan         nan -0.24892843 -0.24799113         nan         nan\n",
      " -0.22482565 -0.22482565         nan         nan -0.22067474 -0.22067474\n",
      " -0.03869836 -0.04137665 -0.07096069 -0.04030548 -0.13885815 -0.13617997\n",
      " -0.15626631 -0.15278476 -0.13885815 -0.13617997 -0.16523816 -0.1636313\n",
      "         nan         nan -0.2481249  -0.24799097         nan         nan\n",
      " -0.22736969 -0.22683422         nan         nan -0.21960352 -0.21960352\n",
      " -0.04057317 -0.0404393  -0.03950189 -0.03963587 -0.03990382 -0.03976979\n",
      " -0.04017194 -0.04003791 -0.03990382 -0.03976979 -0.04311786 -0.04284996\n",
      "         nan         nan -0.24906241 -0.24999981         nan         nan\n",
      " -0.22763754 -0.22844075         nan         nan -0.22375459 -0.22375459\n",
      " -0.04057317 -0.0404393  -0.03936808 -0.03963587 -0.03990382 -0.03976979\n",
      " -0.04003807 -0.04003791 -0.03990382 -0.03976979 -0.04311786 -0.04271609\n",
      "         nan         nan -0.24906241 -0.24999981         nan         nan\n",
      " -0.22763754 -0.22844075         nan         nan -0.22375459 -0.22375459\n",
      " -0.04030543 -0.04057327 -0.03990388 -0.04057338 -0.04043941 -0.04043935\n",
      " -0.0408416  -0.04030581 -0.04043941 -0.04043935 -0.04351963 -0.0433857\n",
      "         nan         nan -0.25013373 -0.24906251         nan         nan\n",
      " -0.22710201 -0.22710201         nan         nan -0.2241563  -0.2241563\n",
      " -0.04177842 -0.0413767  -0.04043924 -0.04057317 -0.04124267 -0.0416446\n",
      " -0.04017172 -0.03976995 -0.04124267 -0.0416446  -0.04405521 -0.04365339\n",
      "         nan         nan -0.2490623  -0.24879451         nan         nan\n",
      " -0.23031566 -0.22978019         nan         nan -0.22335298 -0.22335298\n",
      " -0.05115165 -0.0498127  -0.04887508 -0.0499464  -0.04633049 -0.04833928\n",
      " -0.03976936 -0.04030511 -0.04633049 -0.04833928 -0.03976936 -0.04191218\n",
      "         nan         nan -0.24544671 -0.24571456         nan         nan\n",
      " -0.24464565 -0.24343728         nan         nan -0.24852682 -0.24852682\n",
      " -0.05061639 -0.05034844 -0.04807165 -0.05048209 -0.04700005 -0.04847331\n",
      " -0.03963549 -0.04057295 -0.04700005 -0.04847331 -0.03976936 -0.04177826\n",
      "         nan         nan -0.24544671 -0.24571456         nan         nan\n",
      " -0.24464565 -0.24343728         nan         nan -0.24852682 -0.24852682\n",
      " -0.05128552 -0.0522233  -0.05061586 -0.05048226 -0.04713451 -0.04807203\n",
      " -0.04124257 -0.04097477 -0.04713451 -0.04807203 -0.04110859 -0.04231384\n",
      "         nan         nan -0.24625014 -0.24517881         nan         nan\n",
      " -0.25254413 -0.25267805         nan         nan -0.24879488 -0.24879488\n",
      " -0.05235701 -0.05128558 -0.05048177 -0.0508837  -0.04954464 -0.0484732\n",
      " -0.0393677  -0.04003732 -0.04954464 -0.0484732  -0.04057279 -0.04084096\n",
      "         nan         nan -0.24611579 -0.2455801          nan         nan\n",
      " -0.24370825 -0.25133877         nan         nan -0.24437565 -0.24437565\n",
      " -0.15640013 -0.14635722 -0.1543914  -0.14381264 -0.1898768  -0.18197622\n",
      " -0.28990385 -0.28240526 -0.1898768  -0.18197622 -0.3126673  -0.30637423\n",
      "         nan         nan -0.24825887 -0.24892843         nan         nan\n",
      " -0.22656648 -0.22736969         nan         nan -0.22094254 -0.22094254\n",
      " -0.15613234 -0.14649115 -0.15398979 -0.14408049 -0.19001067 -0.18157451\n",
      " -0.28963611 -0.28227134 -0.19001067 -0.18157451 -0.3126673  -0.30637423\n",
      "         nan         nan -0.24825887 -0.24892843         nan         nan\n",
      " -0.22656648 -0.22736969         nan         nan -0.22094254 -0.22094254\n",
      " -0.15948003 -0.13805537 -0.15640045 -0.13457408 -0.19576875 -0.17889681\n",
      " -0.3053035  -0.29673358 -0.19576875 -0.17889681 -0.33061089 -0.32605827\n",
      "         nan         nan -0.24892843 -0.24799113         nan         nan\n",
      " -0.22482565 -0.22482565         nan         nan -0.22067474 -0.22067474\n",
      " -0.15211504 -0.13336851 -0.14836542 -0.13336808 -0.19309024 -0.17849483\n",
      " -0.3028931  -0.29378739 -0.19309024 -0.17849483 -0.33569919 -0.32873613\n",
      "         nan         nan -0.2481249  -0.24799097         nan         nan\n",
      " -0.22736969 -0.22683422         nan         nan -0.21960352 -0.21960352\n",
      " -0.03990355 -0.03896615 -0.03843062 -0.03883233 -0.03869863 -0.03856449\n",
      " -0.03910061 -0.03869873 -0.03869863 -0.03856449 -0.04164487 -0.04151089\n",
      "         nan         nan -0.24906241 -0.24986589         nan         nan\n",
      " -0.22710206 -0.22790527         nan         nan -0.22161204 -0.22161204\n",
      " -0.03990355 -0.03896615 -0.03843062 -0.03883233 -0.03869863 -0.03829675\n",
      " -0.03910061 -0.03869873 -0.03869863 -0.03829675 -0.04164487 -0.04164482\n",
      "         nan         nan -0.24906241 -0.24986589         nan         nan\n",
      " -0.22710206 -0.22790527         nan         nan -0.22161204 -0.22161204\n",
      " -0.03883239 -0.03843051 -0.03802891 -0.03869857 -0.03869863 -0.03883239\n",
      " -0.03923453 -0.03843094 -0.03869863 -0.03883239 -0.04231443 -0.04164476\n",
      "         nan         nan -0.24986589 -0.24879467         nan         nan\n",
      " -0.22536123 -0.22536123         nan         nan -0.22134425 -0.22134425\n",
      " -0.03923421 -0.03963598 -0.03936803 -0.03910029 -0.03936797 -0.03936803\n",
      " -0.03963609 -0.03869863 -0.03936797 -0.03936803 -0.04298388 -0.04204642\n",
      "         nan         nan -0.24919622 -0.24892843         nan         nan\n",
      " -0.22844086 -0.22763764         nan         nan -0.22013921 -0.22013921\n",
      " -0.0582488  -0.05744548 -0.05316017 -0.05449972 -0.05235685 -0.0502142\n",
      " -0.04110859 -0.04204594 -0.05235685 -0.0502142  -0.03990345 -0.04097483\n",
      "         nan         nan -0.2461159  -0.2467854          nan         nan\n",
      " -0.21638874 -0.21679034         nan         nan -0.20460597 -0.20460597\n",
      " -0.05932018 -0.05744521 -0.05316028 -0.05423187 -0.05382973 -0.04967856\n",
      " -0.04110853 -0.04217986 -0.05382973 -0.04967856 -0.04003737 -0.04084096\n",
      "         nan         nan -0.2461159  -0.2467854          nan         nan\n",
      " -0.21638874 -0.21679034         nan         nan -0.20460597 -0.20460597\n",
      " -0.05557062 -0.05597201 -0.05476692 -0.05409725 -0.05382968 -0.04981286\n",
      " -0.04124257 -0.04110853 -0.05382968 -0.04981286 -0.04030516 -0.0408409\n",
      "         nan         nan -0.24785667 -0.24732104         nan         nan\n",
      " -0.2166568  -0.2166568          nan         nan -0.20232923 -0.20232923\n",
      " -0.05624007 -0.0567756  -0.05597228 -0.05557067 -0.05141939 -0.05074951\n",
      " -0.04043903 -0.04017124 -0.05141939 -0.05074951 -0.03829659 -0.0389662\n",
      "         nan         nan -0.24732088 -0.24665121         nan         nan\n",
      " -0.21920047 -0.21772791         nan         nan -0.19442823 -0.19442823]\n",
      "  warnings.warn(\n",
      "c:\\users\\marko\\appdata\\local\\programs\\python\\python39\\lib\\site-packages\\sklearn\\model_selection\\_search.py:918: UserWarning: One or more of the train scores are non-finite: [-0.20386985 -0.19516618 -0.20219598 -0.19449652 -0.21397963 -0.20688267\n",
      " -0.23567208 -0.23386442 -0.21397963 -0.20688267 -0.23942155 -0.23855109\n",
      "         nan         nan -0.24076064 -0.24122931         nan         nan\n",
      " -0.19349241 -0.1943629          nan         nan -0.17943203 -0.17943203\n",
      " -0.20386985 -0.19509923 -0.20212903 -0.19456348 -0.21391268 -0.20681573\n",
      " -0.23567208 -0.23386442 -0.21391268 -0.20681573 -0.23942155 -0.23855109\n",
      "         nan         nan -0.24076064 -0.24122931         nan         nan\n",
      " -0.19349241 -0.1943629          nan         nan -0.17943203 -0.17943203\n",
      " -0.20855648 -0.19677297 -0.2060791  -0.19563463 -0.21732731 -0.21029719\n",
      " -0.2368103  -0.23627474 -0.21732731 -0.21029719 -0.24116229 -0.24055973\n",
      "         nan         nan -0.24223356 -0.24176486         nan         nan\n",
      " -0.19536704 -0.19536704         nan         nan -0.17829379 -0.17829379\n",
      " -0.20761901 -0.19998666 -0.20815459 -0.20079006 -0.21525175 -0.20929307\n",
      " -0.23835027 -0.23801554 -0.21525175 -0.20929307 -0.24270215 -0.24270215\n",
      "         nan         nan -0.24102842 -0.24082755         nan         nan\n",
      " -0.19529998 -0.19543391         nan         nan -0.17568264 -0.17568264\n",
      " -0.08991685 -0.07645958 -0.09426873 -0.08014194 -0.09614338 -0.08415907\n",
      " -0.13618117 -0.12332631 -0.09614338 -0.08415907 -0.14602334 -0.13577968\n",
      "         nan         nan -0.25535618 -0.25535618         nan         nan\n",
      " -0.25535618 -0.25535618         nan         nan -0.25535618 -0.25535618\n",
      " -0.08991685 -0.07659348 -0.09420178 -0.08027586 -0.09614338 -0.08402517\n",
      " -0.13644898 -0.1233263  -0.09614338 -0.08402517 -0.14602334 -0.13577968\n",
      "         nan         nan -0.25535618 -0.25535618         nan         nan\n",
      " -0.25535618 -0.25535618         nan         nan -0.25535618 -0.25535618\n",
      " -0.09045246 -0.07505365 -0.09306349 -0.07699515 -0.10123176 -0.08623461\n",
      " -0.14461717 -0.1345074  -0.10123176 -0.08623461 -0.15298654 -0.14582259\n",
      "         nan         nan -0.25535618 -0.25535618         nan         nan\n",
      " -0.25535618 -0.25535618         nan         nan -0.25535618 -0.25535618\n",
      " -0.09078719 -0.08101225 -0.09493825 -0.08502959 -0.10223609 -0.09627739\n",
      " -0.14763023 -0.14401484 -0.10223609 -0.09627739 -0.15820881 -0.1570706\n",
      "         nan         nan -0.25535618 -0.25535618         nan         nan\n",
      " -0.25535618 -0.25535618         nan         nan -0.25535618 -0.25535618\n",
      " -0.04840636 -0.05135229 -0.04653177 -0.05048195 -0.04633094 -0.04572845\n",
      " -0.13678345 -0.13457404 -0.04633094 -0.04572845 -0.14388035 -0.14153704\n",
      "         nan         nan -0.25535618 -0.25535618         nan         nan\n",
      " -0.25535618 -0.25535618         nan         nan -0.25535618 -0.25535618\n",
      " -0.04827246 -0.05135229 -0.04646481 -0.05074976 -0.04626399 -0.0456615\n",
      " -0.13671649 -0.13450709 -0.04626399 -0.0456615  -0.14388035 -0.1414701\n",
      "         nan         nan -0.25535618 -0.25535618         nan         nan\n",
      " -0.25535618 -0.25535618         nan         nan -0.25535618 -0.25535618\n",
      " -0.0481387  -0.05289234 -0.04780399 -0.05148638 -0.04485806 -0.04787094\n",
      " -0.13772081 -0.13490882 -0.04485806 -0.04787094 -0.14662542 -0.14287604\n",
      "         nan         nan -0.25535618 -0.25535618         nan         nan\n",
      " -0.25535618 -0.25535618         nan         nan -0.25535618 -0.25535618\n",
      " -0.04874122 -0.05423144 -0.04740221 -0.05329413 -0.04579541 -0.0475362\n",
      " -0.1359131  -0.13490874 -0.04579541 -0.0475362  -0.14762965 -0.14495157\n",
      "         nan         nan -0.25535618 -0.25535618         nan         nan\n",
      " -0.25535618 -0.25535618         nan         nan -0.25535618 -0.25535618\n",
      " -0.0869059  -0.05651158 -0.08603542 -0.05584196 -0.117501   -0.117501\n",
      " -0.11529158 -0.11529158 -0.117501   -0.117501   -0.11529158 -0.11529158\n",
      "         nan         nan -0.24076064 -0.24122931         nan         nan\n",
      " -0.19349241 -0.1943629          nan         nan -0.17943203 -0.17943203\n",
      " -0.0869059  -0.05651158 -0.08603542 -0.05584196 -0.117501   -0.117501\n",
      " -0.11529158 -0.11529158 -0.117501   -0.117501   -0.11529158 -0.11529158\n",
      "         nan         nan -0.24076064 -0.24122931         nan         nan\n",
      " -0.19349241 -0.1943629          nan         nan -0.17943203 -0.17943203\n",
      " -0.08797714 -0.0275843  -0.08690582 -0.0275843  -0.11910783 -0.11897394\n",
      " -0.11542547 -0.11542547 -0.11910783 -0.11897394 -0.11529158 -0.11529158\n",
      "         nan         nan -0.24223356 -0.24176486         nan         nan\n",
      " -0.19536704 -0.19536704         nan         nan -0.17829379 -0.17829379\n",
      " -0.02778516 -0.02778517 -0.05677937 -0.02791907 -0.12111643 -0.12111643\n",
      " -0.11542547 -0.11542547 -0.12111643 -0.12111643 -0.11529158 -0.11529158\n",
      "         nan         nan -0.24102842 -0.24082755         nan         nan\n",
      " -0.19529998 -0.19543391         nan         nan -0.17568264 -0.17568264\n",
      " -0.02878943 -0.02865552 -0.0287225  -0.02885639 -0.02825382 -0.02798603\n",
      " -0.0271826  -0.02704869 -0.02825382 -0.02798603 -0.0269148  -0.0269148\n",
      "         nan         nan -0.24076064 -0.24122931         nan         nan\n",
      " -0.19349241 -0.1943629          nan         nan -0.17943203 -0.17943203\n",
      " -0.02878943 -0.02865552 -0.0287225  -0.02885639 -0.02825382 -0.02798603\n",
      " -0.0271826  -0.02704869 -0.02825382 -0.02798603 -0.0269148  -0.0269148\n",
      "         nan         nan -0.24076064 -0.24122931         nan         nan\n",
      " -0.19349241 -0.1943629          nan         nan -0.17943203 -0.17943203\n",
      " -0.02865552 -0.02852164 -0.02872248 -0.0285886  -0.02825381 -0.02778516\n",
      " -0.02704869 -0.02704869 -0.02825381 -0.02778516 -0.0269148  -0.0269148\n",
      "         nan         nan -0.24223356 -0.24176486         nan         nan\n",
      " -0.19536704 -0.19536704         nan         nan -0.17829379 -0.17829379\n",
      " -0.02872252 -0.0287895  -0.02885643 -0.02892341 -0.02892338 -0.02852167\n",
      " -0.0271826  -0.02711565 -0.02892338 -0.02852167 -0.0269148  -0.0269148\n",
      "         nan         nan -0.24102842 -0.24082755         nan         nan\n",
      " -0.19529998 -0.19543391         nan         nan -0.17568264 -0.17568264\n",
      " -0.04425545 -0.04452328 -0.04345198 -0.0437869  -0.03983665 -0.03970272\n",
      " -0.03133362 -0.03106582 -0.03983665 -0.03970272 -0.03066412 -0.03053021\n",
      "         nan         nan -0.24076064 -0.24122931         nan         nan\n",
      " -0.2356026  -0.23661079         nan         nan -0.25535618 -0.25535618\n",
      " -0.04392061 -0.0444563  -0.04365282 -0.0435191  -0.0397697  -0.03963573\n",
      " -0.03133364 -0.0311997  -0.0397697  -0.03963573 -0.03059717 -0.03053021\n",
      "         nan         nan -0.24076064 -0.24122931         nan         nan\n",
      " -0.2356026  -0.23661079         nan         nan -0.25535618 -0.25535618\n",
      " -0.04432242 -0.04325121 -0.04405479 -0.04358598 -0.03990353 -0.03930091\n",
      " -0.03059713 -0.03079803 -0.03990353 -0.03930091 -0.02972679 -0.0299946\n",
      "         nan         nan -0.24223356 -0.24176486         nan         nan\n",
      " -0.25535618 -0.25535618         nan         nan -0.25535618 -0.25535618\n",
      " -0.04579531 -0.0453268  -0.04378685 -0.04459025 -0.04097473 -0.04064005\n",
      " -0.03106583 -0.03093191 -0.04097473 -0.04064005 -0.0299946  -0.03032937\n",
      "         nan         nan -0.24102842 -0.24082755         nan         nan\n",
      " -0.23553564 -0.25535618         nan         nan -0.25535618 -0.25535618\n",
      " -0.02731648 -0.02731648 -0.02731648 -0.02745038 -0.02704868 -0.02704868\n",
      " -0.02678089 -0.02678089 -0.02704868 -0.02704868 -0.02678089 -0.02678089\n",
      "         nan         nan -0.24076064 -0.24122931         nan         nan\n",
      " -0.19349241 -0.1943629          nan         nan -0.17943203 -0.17943203\n",
      " -0.02731648 -0.02731648 -0.02731648 -0.02745038 -0.02704868 -0.02704868\n",
      " -0.02678089 -0.02678089 -0.02704868 -0.02704868 -0.02678089 -0.02678089\n",
      "         nan         nan -0.24076064 -0.24122931         nan         nan\n",
      " -0.19349241 -0.1943629          nan         nan -0.17943203 -0.17943203\n",
      " -0.02745039 -0.02731648 -0.02745039 -0.02731648 -0.02718257 -0.02718257\n",
      " -0.02678089 -0.02678089 -0.02718257 -0.02718257 -0.02678089 -0.02678089\n",
      "         nan         nan -0.24223356 -0.24176486         nan         nan\n",
      " -0.19536704 -0.19536704         nan         nan -0.17829379 -0.17829379\n",
      " -0.02771821 -0.02778517 -0.02771821 -0.02778517 -0.02751734 -0.02745039\n",
      " -0.02678089 -0.02678089 -0.02751734 -0.02745039 -0.02678089 -0.02678089\n",
      "         nan         nan -0.24102842 -0.24082755         nan         nan\n",
      " -0.19529998 -0.19543391         nan         nan -0.17568264 -0.17568264\n",
      " -0.02731648 -0.02731648 -0.02731648 -0.02745038 -0.02704868 -0.02704868\n",
      " -0.02678089 -0.02678089 -0.02704868 -0.02704868 -0.02678089 -0.02678089\n",
      "         nan         nan -0.24076064 -0.24122931         nan         nan\n",
      " -0.19349241 -0.1943629          nan         nan -0.17943203 -0.17943203\n",
      " -0.02731648 -0.02731648 -0.02731648 -0.02745038 -0.02704868 -0.02704868\n",
      " -0.02678089 -0.02678089 -0.02704868 -0.02704868 -0.02678089 -0.02678089\n",
      "         nan         nan -0.24076064 -0.24122931         nan         nan\n",
      " -0.19349241 -0.1943629          nan         nan -0.17943203 -0.17943203\n",
      " -0.02745039 -0.02731648 -0.02745039 -0.02731648 -0.02718257 -0.02718257\n",
      " -0.02678089 -0.02678089 -0.02718257 -0.02718257 -0.02678089 -0.02678089\n",
      "         nan         nan -0.24223356 -0.24176486         nan         nan\n",
      " -0.19536704 -0.19536704         nan         nan -0.17829379 -0.17829379\n",
      " -0.02771821 -0.02778517 -0.02771821 -0.02778517 -0.02745039 -0.02745039\n",
      " -0.02678089 -0.02678089 -0.02745039 -0.02745039 -0.02678089 -0.02678089\n",
      "         nan         nan -0.24102842 -0.24082755         nan         nan\n",
      " -0.19529998 -0.19543391         nan         nan -0.17568264 -0.17568264\n",
      " -0.04505891 -0.04566158 -0.04305037 -0.04305051 -0.03715852 -0.03655593\n",
      " -0.02711565 -0.02704871 -0.03715852 -0.03655593 -0.0269148  -0.0269148\n",
      "         nan         nan -0.24076064 -0.24122931         nan         nan\n",
      " -0.19349241 -0.1943629          nan         nan -0.17943203 -0.17943203\n",
      " -0.04492502 -0.04505899 -0.04238085 -0.04325135 -0.03749336 -0.03662288\n",
      " -0.02711565 -0.02698176 -0.03749336 -0.03662288 -0.0269148  -0.0269148\n",
      "         nan         nan -0.24076064 -0.24122931         nan         nan\n",
      " -0.19349241 -0.1943629          nan         nan -0.17943203 -0.17943203\n",
      " -0.04338502 -0.04271543 -0.04244777 -0.04184522 -0.03628809 -0.03548459\n",
      " -0.02724955 -0.0271826  -0.03628809 -0.03548459 -0.0269148  -0.0269148\n",
      "         nan         nan -0.24223356 -0.24176486         nan         nan\n",
      " -0.19536704 -0.19536704         nan         nan -0.17829379 -0.17829379\n",
      " -0.04385384 -0.0462641  -0.04432258 -0.04345204 -0.03635508 -0.03588644\n",
      " -0.02704869 -0.02711564 -0.03635508 -0.03588644 -0.02678089 -0.02678089\n",
      "         nan         nan -0.24102842 -0.24082755         nan         nan\n",
      " -0.19529998 -0.19543391         nan         nan -0.17568264 -0.17568264]\n",
      "  warnings.warn(\n"
     ]
    },
    {
     "data": {
      "text/plain": [
       "GridSearchCV(cv=3,\n",
       "             estimator=Pipeline(steps=[('text_processing', DataTransformer()),\n",
       "                                       ('text_vectorizer', TfidfVectorizer()),\n",
       "                                       ('estimator', SVC())]),\n",
       "             n_jobs=5,\n",
       "             param_grid={'estimator__C': [0.1, 1.0, 10.0],\n",
       "                         'estimator__kernel': ['poly', 'rbf', 'sigmoid'],\n",
       "                         'text_processing__doStemmingFlag': [True, False],\n",
       "                         'text_processing__toLowerCaseFlag': [True, False],\n",
       "                         'text_vectorizer_...\n",
       "                         'text_vectorizer__min_df': [0.01, 1],\n",
       "                         'text_vectorizer__stop_words': [['i', 'me', 'my',\n",
       "                                                          'myself', 'we', 'our',\n",
       "                                                          'ours', 'ourselves',\n",
       "                                                          'you', \"you're\",\n",
       "                                                          \"you've\", \"you'll\",\n",
       "                                                          \"you'd\", 'your',\n",
       "                                                          'yours', 'yourself',\n",
       "                                                          'yourselves', 'he',\n",
       "                                                          'him', 'his',\n",
       "                                                          'himself', 'she',\n",
       "                                                          \"she's\", 'her',\n",
       "                                                          'hers', 'herself',\n",
       "                                                          'it', \"it's\", 'its',\n",
       "                                                          'itself', ...],\n",
       "                                                         None]},\n",
       "             return_train_score=True, scoring='neg_mean_squared_error',\n",
       "             verbose=2)"
      ]
     },
     "execution_count": 9,
     "metadata": {},
     "output_type": "execute_result"
    }
   ],
   "source": [
    "from sklearn.model_selection import GridSearchCV\n",
    "\n",
    "grid_search = GridSearchCV(svc_pipeline, \n",
    "                           svc_params, \n",
    "                           cv=3, \n",
    "                           scoring='neg_mean_squared_error',\n",
    "                           return_train_score=True, \n",
    "                           n_jobs=5,\n",
    "                           verbose=2)  \n",
    "\n",
    "\n",
    "grid_search.fit(X_train, y_train.values.astype(np.uint8))"
   ]
  },
  {
   "cell_type": "code",
   "execution_count": 10,
   "id": "48d57ce6",
   "metadata": {},
   "outputs": [
    {
     "name": "stdout",
     "output_type": "stream",
     "text": [
      "Fitting 3 folds for each of 60 candidates, totalling 180 fits\n",
      "[CV] END scaler__with_mean=True, scaler__with_std=True, shifter__amount=-2, svc__kernel=poly; total time=   0.0s\n",
      "[CV] END scaler__with_mean=True, scaler__with_std=True, shifter__amount=-2, svc__kernel=poly; total time=   0.0s\n",
      "[CV] END scaler__with_mean=True, scaler__with_std=True, shifter__amount=-2, svc__kernel=poly; total time=   0.0s\n",
      "[CV] END scaler__with_mean=True, scaler__with_std=True, shifter__amount=-2, svc__kernel=rbf; total time=   0.0s\n",
      "[CV] END scaler__with_mean=True, scaler__with_std=True, shifter__amount=-2, svc__kernel=rbf; total time=   0.0s\n",
      "[CV] END scaler__with_mean=True, scaler__with_std=True, shifter__amount=-2, svc__kernel=rbf; total time=   0.0s\n",
      "[CV] END scaler__with_mean=True, scaler__with_std=True, shifter__amount=-2, svc__kernel=sigmoid; total time=   0.0s\n",
      "[CV] END scaler__with_mean=True, scaler__with_std=True, shifter__amount=-2, svc__kernel=sigmoid; total time=   0.1s\n",
      "[CV] END scaler__with_mean=True, scaler__with_std=True, shifter__amount=-2, svc__kernel=sigmoid; total time=   0.0s\n",
      "[CV] END scaler__with_mean=True, scaler__with_std=True, shifter__amount=-1, svc__kernel=poly; total time=   0.0s\n",
      "[CV] END scaler__with_mean=True, scaler__with_std=True, shifter__amount=-1, svc__kernel=poly; total time=   0.0s\n",
      "[CV] END scaler__with_mean=True, scaler__with_std=True, shifter__amount=-1, svc__kernel=poly; total time=   0.0s\n",
      "[CV] END scaler__with_mean=True, scaler__with_std=True, shifter__amount=-1, svc__kernel=rbf; total time=   0.0s\n",
      "[CV] END scaler__with_mean=True, scaler__with_std=True, shifter__amount=-1, svc__kernel=rbf; total time=   0.0s\n",
      "[CV] END scaler__with_mean=True, scaler__with_std=True, shifter__amount=-1, svc__kernel=rbf; total time=   0.0s\n",
      "[CV] END scaler__with_mean=True, scaler__with_std=True, shifter__amount=-1, svc__kernel=sigmoid; total time=   0.0s\n",
      "[CV] END scaler__with_mean=True, scaler__with_std=True, shifter__amount=-1, svc__kernel=sigmoid; total time=   0.0s\n",
      "[CV] END scaler__with_mean=True, scaler__with_std=True, shifter__amount=-1, svc__kernel=sigmoid; total time=   0.0s\n",
      "[CV] END scaler__with_mean=True, scaler__with_std=True, shifter__amount=0, svc__kernel=poly; total time=   0.0s\n",
      "[CV] END scaler__with_mean=True, scaler__with_std=True, shifter__amount=0, svc__kernel=poly; total time=   0.0s\n",
      "[CV] END scaler__with_mean=True, scaler__with_std=True, shifter__amount=0, svc__kernel=poly; total time=   0.0s\n",
      "[CV] END scaler__with_mean=True, scaler__with_std=True, shifter__amount=0, svc__kernel=rbf; total time=   0.0s\n",
      "[CV] END scaler__with_mean=True, scaler__with_std=True, shifter__amount=0, svc__kernel=rbf; total time=   0.0s\n",
      "[CV] END scaler__with_mean=True, scaler__with_std=True, shifter__amount=0, svc__kernel=rbf; total time=   0.0s\n",
      "[CV] END scaler__with_mean=True, scaler__with_std=True, shifter__amount=0, svc__kernel=sigmoid; total time=   0.0s\n",
      "[CV] END scaler__with_mean=True, scaler__with_std=True, shifter__amount=0, svc__kernel=sigmoid; total time=   0.0s\n",
      "[CV] END scaler__with_mean=True, scaler__with_std=True, shifter__amount=0, svc__kernel=sigmoid; total time=   0.0s\n",
      "[CV] END scaler__with_mean=True, scaler__with_std=True, shifter__amount=1, svc__kernel=poly; total time=   0.0s\n",
      "[CV] END scaler__with_mean=True, scaler__with_std=True, shifter__amount=1, svc__kernel=poly; total time=   0.0s\n",
      "[CV] END scaler__with_mean=True, scaler__with_std=True, shifter__amount=1, svc__kernel=poly; total time=   0.0s\n",
      "[CV] END scaler__with_mean=True, scaler__with_std=True, shifter__amount=1, svc__kernel=rbf; total time=   0.0s\n",
      "[CV] END scaler__with_mean=True, scaler__with_std=True, shifter__amount=1, svc__kernel=rbf; total time=   0.0s\n",
      "[CV] END scaler__with_mean=True, scaler__with_std=True, shifter__amount=1, svc__kernel=rbf; total time=   0.0s\n",
      "[CV] END scaler__with_mean=True, scaler__with_std=True, shifter__amount=1, svc__kernel=sigmoid; total time=   0.0s\n",
      "[CV] END scaler__with_mean=True, scaler__with_std=True, shifter__amount=1, svc__kernel=sigmoid; total time=   0.0s\n",
      "[CV] END scaler__with_mean=True, scaler__with_std=True, shifter__amount=1, svc__kernel=sigmoid; total time=   0.0s\n",
      "[CV] END scaler__with_mean=True, scaler__with_std=True, shifter__amount=2, svc__kernel=poly; total time=   0.0s\n",
      "[CV] END scaler__with_mean=True, scaler__with_std=True, shifter__amount=2, svc__kernel=poly; total time=   0.0s\n",
      "[CV] END scaler__with_mean=True, scaler__with_std=True, shifter__amount=2, svc__kernel=poly; total time=   0.0s\n",
      "[CV] END scaler__with_mean=True, scaler__with_std=True, shifter__amount=2, svc__kernel=rbf; total time=   0.0s\n",
      "[CV] END scaler__with_mean=True, scaler__with_std=True, shifter__amount=2, svc__kernel=rbf; total time=   0.0s\n",
      "[CV] END scaler__with_mean=True, scaler__with_std=True, shifter__amount=2, svc__kernel=rbf; total time=   0.0s\n",
      "[CV] END scaler__with_mean=True, scaler__with_std=True, shifter__amount=2, svc__kernel=sigmoid; total time=   0.0s\n",
      "[CV] END scaler__with_mean=True, scaler__with_std=True, shifter__amount=2, svc__kernel=sigmoid; total time=   0.0s\n",
      "[CV] END scaler__with_mean=True, scaler__with_std=True, shifter__amount=2, svc__kernel=sigmoid; total time=   0.0s\n",
      "[CV] END scaler__with_mean=True, scaler__with_std=False, shifter__amount=-2, svc__kernel=poly; total time=   0.0s\n",
      "[CV] END scaler__with_mean=True, scaler__with_std=False, shifter__amount=-2, svc__kernel=poly; total time=   0.0s\n",
      "[CV] END scaler__with_mean=True, scaler__with_std=False, shifter__amount=-2, svc__kernel=poly; total time=   0.0s\n",
      "[CV] END scaler__with_mean=True, scaler__with_std=False, shifter__amount=-2, svc__kernel=rbf; total time=   0.0s\n",
      "[CV] END scaler__with_mean=True, scaler__with_std=False, shifter__amount=-2, svc__kernel=rbf; total time=   0.0s\n",
      "[CV] END scaler__with_mean=True, scaler__with_std=False, shifter__amount=-2, svc__kernel=rbf; total time=   0.0s\n",
      "[CV] END scaler__with_mean=True, scaler__with_std=False, shifter__amount=-2, svc__kernel=sigmoid; total time=   0.0s\n",
      "[CV] END scaler__with_mean=True, scaler__with_std=False, shifter__amount=-2, svc__kernel=sigmoid; total time=   0.0s\n",
      "[CV] END scaler__with_mean=True, scaler__with_std=False, shifter__amount=-2, svc__kernel=sigmoid; total time=   0.0s\n",
      "[CV] END scaler__with_mean=True, scaler__with_std=False, shifter__amount=-1, svc__kernel=poly; total time=   0.0s\n",
      "[CV] END scaler__with_mean=True, scaler__with_std=False, shifter__amount=-1, svc__kernel=poly; total time=   0.0s\n",
      "[CV] END scaler__with_mean=True, scaler__with_std=False, shifter__amount=-1, svc__kernel=poly; total time=   0.0s\n",
      "[CV] END scaler__with_mean=True, scaler__with_std=False, shifter__amount=-1, svc__kernel=rbf; total time=   0.0s\n",
      "[CV] END scaler__with_mean=True, scaler__with_std=False, shifter__amount=-1, svc__kernel=rbf; total time=   0.0s\n",
      "[CV] END scaler__with_mean=True, scaler__with_std=False, shifter__amount=-1, svc__kernel=rbf; total time=   0.0s\n",
      "[CV] END scaler__with_mean=True, scaler__with_std=False, shifter__amount=-1, svc__kernel=sigmoid; total time=   0.0s\n",
      "[CV] END scaler__with_mean=True, scaler__with_std=False, shifter__amount=-1, svc__kernel=sigmoid; total time=   0.0s\n",
      "[CV] END scaler__with_mean=True, scaler__with_std=False, shifter__amount=-1, svc__kernel=sigmoid; total time=   0.0s\n",
      "[CV] END scaler__with_mean=True, scaler__with_std=False, shifter__amount=0, svc__kernel=poly; total time=   0.0s\n",
      "[CV] END scaler__with_mean=True, scaler__with_std=False, shifter__amount=0, svc__kernel=poly; total time=   0.0s\n",
      "[CV] END scaler__with_mean=True, scaler__with_std=False, shifter__amount=0, svc__kernel=poly; total time=   0.0s\n",
      "[CV] END scaler__with_mean=True, scaler__with_std=False, shifter__amount=0, svc__kernel=rbf; total time=   0.0s\n",
      "[CV] END scaler__with_mean=True, scaler__with_std=False, shifter__amount=0, svc__kernel=rbf; total time=   0.0s\n",
      "[CV] END scaler__with_mean=True, scaler__with_std=False, shifter__amount=0, svc__kernel=rbf; total time=   0.0s\n",
      "[CV] END scaler__with_mean=True, scaler__with_std=False, shifter__amount=0, svc__kernel=sigmoid; total time=   0.0s\n",
      "[CV] END scaler__with_mean=True, scaler__with_std=False, shifter__amount=0, svc__kernel=sigmoid; total time=   0.0s\n",
      "[CV] END scaler__with_mean=True, scaler__with_std=False, shifter__amount=0, svc__kernel=sigmoid; total time=   0.0s\n",
      "[CV] END scaler__with_mean=True, scaler__with_std=False, shifter__amount=1, svc__kernel=poly; total time=   0.0s\n",
      "[CV] END scaler__with_mean=True, scaler__with_std=False, shifter__amount=1, svc__kernel=poly; total time=   0.0s\n"
     ]
    },
    {
     "name": "stdout",
     "output_type": "stream",
     "text": [
      "[CV] END scaler__with_mean=True, scaler__with_std=False, shifter__amount=1, svc__kernel=poly; total time=   0.0s\n",
      "[CV] END scaler__with_mean=True, scaler__with_std=False, shifter__amount=1, svc__kernel=rbf; total time=   0.0s\n",
      "[CV] END scaler__with_mean=True, scaler__with_std=False, shifter__amount=1, svc__kernel=rbf; total time=   0.0s\n",
      "[CV] END scaler__with_mean=True, scaler__with_std=False, shifter__amount=1, svc__kernel=rbf; total time=   0.0s\n",
      "[CV] END scaler__with_mean=True, scaler__with_std=False, shifter__amount=1, svc__kernel=sigmoid; total time=   0.0s\n",
      "[CV] END scaler__with_mean=True, scaler__with_std=False, shifter__amount=1, svc__kernel=sigmoid; total time=   0.0s\n",
      "[CV] END scaler__with_mean=True, scaler__with_std=False, shifter__amount=1, svc__kernel=sigmoid; total time=   0.0s\n",
      "[CV] END scaler__with_mean=True, scaler__with_std=False, shifter__amount=2, svc__kernel=poly; total time=   0.0s\n",
      "[CV] END scaler__with_mean=True, scaler__with_std=False, shifter__amount=2, svc__kernel=poly; total time=   0.0s\n",
      "[CV] END scaler__with_mean=True, scaler__with_std=False, shifter__amount=2, svc__kernel=poly; total time=   0.0s\n",
      "[CV] END scaler__with_mean=True, scaler__with_std=False, shifter__amount=2, svc__kernel=rbf; total time=   0.0s\n",
      "[CV] END scaler__with_mean=True, scaler__with_std=False, shifter__amount=2, svc__kernel=rbf; total time=   0.0s\n",
      "[CV] END scaler__with_mean=True, scaler__with_std=False, shifter__amount=2, svc__kernel=rbf; total time=   0.0s\n",
      "[CV] END scaler__with_mean=True, scaler__with_std=False, shifter__amount=2, svc__kernel=sigmoid; total time=   0.0s\n",
      "[CV] END scaler__with_mean=True, scaler__with_std=False, shifter__amount=2, svc__kernel=sigmoid; total time=   0.0s\n",
      "[CV] END scaler__with_mean=True, scaler__with_std=False, shifter__amount=2, svc__kernel=sigmoid; total time=   0.0s\n",
      "[CV] END scaler__with_mean=False, scaler__with_std=True, shifter__amount=-2, svc__kernel=poly; total time=   0.0s\n",
      "[CV] END scaler__with_mean=False, scaler__with_std=True, shifter__amount=-2, svc__kernel=poly; total time=   0.0s\n",
      "[CV] END scaler__with_mean=False, scaler__with_std=True, shifter__amount=-2, svc__kernel=poly; total time=   0.0s\n",
      "[CV] END scaler__with_mean=False, scaler__with_std=True, shifter__amount=-2, svc__kernel=rbf; total time=   0.0s\n",
      "[CV] END scaler__with_mean=False, scaler__with_std=True, shifter__amount=-2, svc__kernel=rbf; total time=   0.0s\n",
      "[CV] END scaler__with_mean=False, scaler__with_std=True, shifter__amount=-2, svc__kernel=rbf; total time=   0.0s\n",
      "[CV] END scaler__with_mean=False, scaler__with_std=True, shifter__amount=-2, svc__kernel=sigmoid; total time=   0.0s\n",
      "[CV] END scaler__with_mean=False, scaler__with_std=True, shifter__amount=-2, svc__kernel=sigmoid; total time=   0.0s\n",
      "[CV] END scaler__with_mean=False, scaler__with_std=True, shifter__amount=-2, svc__kernel=sigmoid; total time=   0.0s\n",
      "[CV] END scaler__with_mean=False, scaler__with_std=True, shifter__amount=-1, svc__kernel=poly; total time=   0.0s\n",
      "[CV] END scaler__with_mean=False, scaler__with_std=True, shifter__amount=-1, svc__kernel=poly; total time=   0.0s\n",
      "[CV] END scaler__with_mean=False, scaler__with_std=True, shifter__amount=-1, svc__kernel=poly; total time=   0.0s\n",
      "[CV] END scaler__with_mean=False, scaler__with_std=True, shifter__amount=-1, svc__kernel=rbf; total time=   0.0s\n",
      "[CV] END scaler__with_mean=False, scaler__with_std=True, shifter__amount=-1, svc__kernel=rbf; total time=   0.0s\n",
      "[CV] END scaler__with_mean=False, scaler__with_std=True, shifter__amount=-1, svc__kernel=rbf; total time=   0.0s\n",
      "[CV] END scaler__with_mean=False, scaler__with_std=True, shifter__amount=-1, svc__kernel=sigmoid; total time=   0.0s\n",
      "[CV] END scaler__with_mean=False, scaler__with_std=True, shifter__amount=-1, svc__kernel=sigmoid; total time=   0.0s\n",
      "[CV] END scaler__with_mean=False, scaler__with_std=True, shifter__amount=-1, svc__kernel=sigmoid; total time=   0.0s\n",
      "[CV] END scaler__with_mean=False, scaler__with_std=True, shifter__amount=0, svc__kernel=poly; total time=   0.0s\n",
      "[CV] END scaler__with_mean=False, scaler__with_std=True, shifter__amount=0, svc__kernel=poly; total time=   0.0s\n",
      "[CV] END scaler__with_mean=False, scaler__with_std=True, shifter__amount=0, svc__kernel=poly; total time=   0.0s\n",
      "[CV] END scaler__with_mean=False, scaler__with_std=True, shifter__amount=0, svc__kernel=rbf; total time=   0.0s\n",
      "[CV] END scaler__with_mean=False, scaler__with_std=True, shifter__amount=0, svc__kernel=rbf; total time=   0.0s\n",
      "[CV] END scaler__with_mean=False, scaler__with_std=True, shifter__amount=0, svc__kernel=rbf; total time=   0.0s\n",
      "[CV] END scaler__with_mean=False, scaler__with_std=True, shifter__amount=0, svc__kernel=sigmoid; total time=   0.0s\n",
      "[CV] END scaler__with_mean=False, scaler__with_std=True, shifter__amount=0, svc__kernel=sigmoid; total time=   0.0s\n",
      "[CV] END scaler__with_mean=False, scaler__with_std=True, shifter__amount=0, svc__kernel=sigmoid; total time=   0.0s\n",
      "[CV] END scaler__with_mean=False, scaler__with_std=True, shifter__amount=1, svc__kernel=poly; total time=   0.0s\n",
      "[CV] END scaler__with_mean=False, scaler__with_std=True, shifter__amount=1, svc__kernel=poly; total time=   0.0s\n",
      "[CV] END scaler__with_mean=False, scaler__with_std=True, shifter__amount=1, svc__kernel=poly; total time=   0.0s\n",
      "[CV] END scaler__with_mean=False, scaler__with_std=True, shifter__amount=1, svc__kernel=rbf; total time=   0.0s\n",
      "[CV] END scaler__with_mean=False, scaler__with_std=True, shifter__amount=1, svc__kernel=rbf; total time=   0.0s\n",
      "[CV] END scaler__with_mean=False, scaler__with_std=True, shifter__amount=1, svc__kernel=rbf; total time=   0.0s\n",
      "[CV] END scaler__with_mean=False, scaler__with_std=True, shifter__amount=1, svc__kernel=sigmoid; total time=   0.0s\n",
      "[CV] END scaler__with_mean=False, scaler__with_std=True, shifter__amount=1, svc__kernel=sigmoid; total time=   0.0s\n",
      "[CV] END scaler__with_mean=False, scaler__with_std=True, shifter__amount=1, svc__kernel=sigmoid; total time=   0.0s\n",
      "[CV] END scaler__with_mean=False, scaler__with_std=True, shifter__amount=2, svc__kernel=poly; total time=   0.0s\n",
      "[CV] END scaler__with_mean=False, scaler__with_std=True, shifter__amount=2, svc__kernel=poly; total time=   0.0s\n",
      "[CV] END scaler__with_mean=False, scaler__with_std=True, shifter__amount=2, svc__kernel=poly; total time=   0.0s\n",
      "[CV] END scaler__with_mean=False, scaler__with_std=True, shifter__amount=2, svc__kernel=rbf; total time=   0.0s\n",
      "[CV] END scaler__with_mean=False, scaler__with_std=True, shifter__amount=2, svc__kernel=rbf; total time=   0.0s\n",
      "[CV] END scaler__with_mean=False, scaler__with_std=True, shifter__amount=2, svc__kernel=rbf; total time=   0.0s\n",
      "[CV] END scaler__with_mean=False, scaler__with_std=True, shifter__amount=2, svc__kernel=sigmoid; total time=   0.0s\n",
      "[CV] END scaler__with_mean=False, scaler__with_std=True, shifter__amount=2, svc__kernel=sigmoid; total time=   0.0s\n",
      "[CV] END scaler__with_mean=False, scaler__with_std=True, shifter__amount=2, svc__kernel=sigmoid; total time=   0.0s\n",
      "[CV] END scaler__with_mean=False, scaler__with_std=False, shifter__amount=-2, svc__kernel=poly; total time=   0.0s\n",
      "[CV] END scaler__with_mean=False, scaler__with_std=False, shifter__amount=-2, svc__kernel=poly; total time=   0.0s\n",
      "[CV] END scaler__with_mean=False, scaler__with_std=False, shifter__amount=-2, svc__kernel=poly; total time=   0.0s\n",
      "[CV] END scaler__with_mean=False, scaler__with_std=False, shifter__amount=-2, svc__kernel=rbf; total time=   0.0s\n",
      "[CV] END scaler__with_mean=False, scaler__with_std=False, shifter__amount=-2, svc__kernel=rbf; total time=   0.0s\n",
      "[CV] END scaler__with_mean=False, scaler__with_std=False, shifter__amount=-2, svc__kernel=rbf; total time=   0.0s\n",
      "[CV] END scaler__with_mean=False, scaler__with_std=False, shifter__amount=-2, svc__kernel=sigmoid; total time=   0.0s\n",
      "[CV] END scaler__with_mean=False, scaler__with_std=False, shifter__amount=-2, svc__kernel=sigmoid; total time=   0.0s\n",
      "[CV] END scaler__with_mean=False, scaler__with_std=False, shifter__amount=-2, svc__kernel=sigmoid; total time=   0.0s\n",
      "[CV] END scaler__with_mean=False, scaler__with_std=False, shifter__amount=-1, svc__kernel=poly; total time=   0.0s\n",
      "[CV] END scaler__with_mean=False, scaler__with_std=False, shifter__amount=-1, svc__kernel=poly; total time=   0.0s\n",
      "[CV] END scaler__with_mean=False, scaler__with_std=False, shifter__amount=-1, svc__kernel=poly; total time=   0.0s\n"
     ]
    },
    {
     "name": "stdout",
     "output_type": "stream",
     "text": [
      "[CV] END scaler__with_mean=False, scaler__with_std=False, shifter__amount=-1, svc__kernel=rbf; total time=   0.0s\n",
      "[CV] END scaler__with_mean=False, scaler__with_std=False, shifter__amount=-1, svc__kernel=rbf; total time=   0.0s\n",
      "[CV] END scaler__with_mean=False, scaler__with_std=False, shifter__amount=-1, svc__kernel=rbf; total time=   0.0s\n",
      "[CV] END scaler__with_mean=False, scaler__with_std=False, shifter__amount=-1, svc__kernel=sigmoid; total time=   0.0s\n",
      "[CV] END scaler__with_mean=False, scaler__with_std=False, shifter__amount=-1, svc__kernel=sigmoid; total time=   0.0s\n",
      "[CV] END scaler__with_mean=False, scaler__with_std=False, shifter__amount=-1, svc__kernel=sigmoid; total time=   0.0s\n",
      "[CV] END scaler__with_mean=False, scaler__with_std=False, shifter__amount=0, svc__kernel=poly; total time=   0.0s\n",
      "[CV] END scaler__with_mean=False, scaler__with_std=False, shifter__amount=0, svc__kernel=poly; total time=   0.0s\n",
      "[CV] END scaler__with_mean=False, scaler__with_std=False, shifter__amount=0, svc__kernel=poly; total time=   0.0s\n",
      "[CV] END scaler__with_mean=False, scaler__with_std=False, shifter__amount=0, svc__kernel=rbf; total time=   0.0s\n",
      "[CV] END scaler__with_mean=False, scaler__with_std=False, shifter__amount=0, svc__kernel=rbf; total time=   0.0s\n",
      "[CV] END scaler__with_mean=False, scaler__with_std=False, shifter__amount=0, svc__kernel=rbf; total time=   0.0s\n",
      "[CV] END scaler__with_mean=False, scaler__with_std=False, shifter__amount=0, svc__kernel=sigmoid; total time=   0.0s\n",
      "[CV] END scaler__with_mean=False, scaler__with_std=False, shifter__amount=0, svc__kernel=sigmoid; total time=   0.0s\n",
      "[CV] END scaler__with_mean=False, scaler__with_std=False, shifter__amount=0, svc__kernel=sigmoid; total time=   0.0s\n",
      "[CV] END scaler__with_mean=False, scaler__with_std=False, shifter__amount=1, svc__kernel=poly; total time=   0.0s\n",
      "[CV] END scaler__with_mean=False, scaler__with_std=False, shifter__amount=1, svc__kernel=poly; total time=   0.0s\n",
      "[CV] END scaler__with_mean=False, scaler__with_std=False, shifter__amount=1, svc__kernel=poly; total time=   0.0s\n",
      "[CV] END scaler__with_mean=False, scaler__with_std=False, shifter__amount=1, svc__kernel=rbf; total time=   0.0s\n",
      "[CV] END scaler__with_mean=False, scaler__with_std=False, shifter__amount=1, svc__kernel=rbf; total time=   0.0s\n",
      "[CV] END scaler__with_mean=False, scaler__with_std=False, shifter__amount=1, svc__kernel=rbf; total time=   0.0s\n",
      "[CV] END scaler__with_mean=False, scaler__with_std=False, shifter__amount=1, svc__kernel=sigmoid; total time=   0.0s\n",
      "[CV] END scaler__with_mean=False, scaler__with_std=False, shifter__amount=1, svc__kernel=sigmoid; total time=   0.0s\n",
      "[CV] END scaler__with_mean=False, scaler__with_std=False, shifter__amount=1, svc__kernel=sigmoid; total time=   0.0s\n",
      "[CV] END scaler__with_mean=False, scaler__with_std=False, shifter__amount=2, svc__kernel=poly; total time=   0.0s\n",
      "[CV] END scaler__with_mean=False, scaler__with_std=False, shifter__amount=2, svc__kernel=poly; total time=   0.0s\n",
      "[CV] END scaler__with_mean=False, scaler__with_std=False, shifter__amount=2, svc__kernel=poly; total time=   0.0s\n",
      "[CV] END scaler__with_mean=False, scaler__with_std=False, shifter__amount=2, svc__kernel=rbf; total time=   0.0s\n",
      "[CV] END scaler__with_mean=False, scaler__with_std=False, shifter__amount=2, svc__kernel=rbf; total time=   0.0s\n",
      "[CV] END scaler__with_mean=False, scaler__with_std=False, shifter__amount=2, svc__kernel=rbf; total time=   0.0s\n",
      "[CV] END scaler__with_mean=False, scaler__with_std=False, shifter__amount=2, svc__kernel=sigmoid; total time=   0.0s\n",
      "[CV] END scaler__with_mean=False, scaler__with_std=False, shifter__amount=2, svc__kernel=sigmoid; total time=   0.0s\n",
      "[CV] END scaler__with_mean=False, scaler__with_std=False, shifter__amount=2, svc__kernel=sigmoid; total time=   0.0s\n"
     ]
    },
    {
     "data": {
      "text/plain": [
       "GridSearchCV(cv=3,\n",
       "             estimator=Pipeline(steps=[('scaler', StandardScaler()),\n",
       "                                       ('shifter', Shifter()),\n",
       "                                       ('svc', SVC())]),\n",
       "             n_jobs=1,\n",
       "             param_grid={'scaler__with_mean': [True, False],\n",
       "                         'scaler__with_std': [True, False],\n",
       "                         'shifter__amount': [-2, -1, 0, 1, 2],\n",
       "                         'svc__kernel': ['poly', 'rbf', 'sigmoid']},\n",
       "             return_train_score=True, scoring='neg_mean_squared_error',\n",
       "             verbose=2)"
      ]
     },
     "execution_count": 10,
     "metadata": {},
     "output_type": "execute_result"
    }
   ],
   "source": [
    "from sklearn.model_selection import GridSearchCV\n",
    "from sklearn.pipeline import Pipeline\n",
    "from sklearn.svm import SVC\n",
    "from sklearn.preprocessing import StandardScaler\n",
    "import numpy as np\n",
    "\n",
    "from sklearn.base import BaseEstimator, TransformerMixin\n",
    "\n",
    "class Shifter(BaseEstimator, TransformerMixin):\n",
    "    def __init__(self, amount=1):\n",
    "        self.amount = amount\n",
    "    def fit(self, X, y=None):\n",
    "        return self\n",
    "    def transform(self, X, y=None):\n",
    "        return X + self.amount\n",
    "\n",
    "s = Shifter()\n",
    "\n",
    "pipeline = Pipeline([\n",
    "    ('scaler', StandardScaler()),\n",
    "    ('shifter', Shifter()),\n",
    "    ('svc', SVC())])\n",
    "\n",
    "params = {\n",
    "    'scaler__with_mean':[True, False],\n",
    "    'scaler__with_std':[True, False],\n",
    "    'shifter__amount':[-2,-1,0,1,2],\n",
    "    'svc__kernel':['poly', 'rbf', 'sigmoid']\n",
    "}\n",
    "\n",
    "X = np.concatenate((np.random.normal(loc=-1,size=1000), np.random.normal(loc=1, size=1000)))\n",
    "y = np.concatenate((np.repeat(0,1000), np.repeat(1,1000)))\n",
    "\n",
    "idx = np.random.permutation(len(y))\n",
    "\n",
    "cv = GridSearchCV(pipeline, params, \n",
    "                  cv=3,\n",
    "                  scoring='neg_mean_squared_error',\n",
    "                  return_train_score=True, \n",
    "                  n_jobs=1,\n",
    "                  verbose=2)\n",
    "\n",
    "cv.fit(X[idx].reshape(-1,1), y[idx])"
   ]
  },
  {
   "cell_type": "code",
   "execution_count": 11,
   "id": "31c2519b",
   "metadata": {},
   "outputs": [
    {
     "name": "stdout",
     "output_type": "stream",
     "text": [
      "{'scaler__with_mean': True, 'scaler__with_std': True, 'shifter__amount': -2, 'svc__kernel': 'poly'}\n"
     ]
    }
   ],
   "source": [
    "print(cv.best_params_)"
   ]
  },
  {
   "cell_type": "code",
   "execution_count": 13,
   "id": "80f5aba3",
   "metadata": {
    "scrolled": true
   },
   "outputs": [
    {
     "name": "stdout",
     "output_type": "stream",
     "text": [
      "{'estimator__C': 10.0, 'estimator__kernel': 'rbf', 'text_processing__doStemmingFlag': False, 'text_processing__toLowerCaseFlag': True, 'text_vectorizer__lowercase': False, 'text_vectorizer__max_df': 0.25, 'text_vectorizer__max_features': 1000, 'text_vectorizer__min_df': 1, 'text_vectorizer__stop_words': ['i', 'me', 'my', 'myself', 'we', 'our', 'ours', 'ourselves', 'you', \"you're\", \"you've\", \"you'll\", \"you'd\", 'your', 'yours', 'yourself', 'yourselves', 'he', 'him', 'his', 'himself', 'she', \"she's\", 'her', 'hers', 'herself', 'it', \"it's\", 'its', 'itself', 'they', 'them', 'their', 'theirs', 'themselves', 'what', 'which', 'who', 'whom', 'this', 'that', \"that'll\", 'these', 'those', 'am', 'is', 'are', 'was', 'were', 'be', 'been', 'being', 'have', 'has', 'had', 'having', 'do', 'does', 'did', 'doing', 'a', 'an', 'the', 'and', 'but', 'if', 'or', 'because', 'as', 'until', 'while', 'of', 'at', 'by', 'for', 'with', 'about', 'against', 'between', 'into', 'through', 'during', 'before', 'after', 'above', 'below', 'to', 'from', 'up', 'down', 'in', 'out', 'on', 'off', 'over', 'under', 'again', 'further', 'then', 'once', 'here', 'there', 'when', 'where', 'why', 'how', 'all', 'any', 'both', 'each', 'few', 'more', 'most', 'other', 'some', 'such', 'no', 'nor', 'not', 'only', 'own', 'same', 'so', 'than', 'too', 'very', 's', 't', 'can', 'will', 'just', 'don', \"don't\", 'should', \"should've\", 'now', 'd', 'll', 'm', 'o', 're', 've', 'y', 'ain', 'aren', \"aren't\", 'couldn', \"couldn't\", 'didn', \"didn't\", 'doesn', \"doesn't\", 'hadn', \"hadn't\", 'hasn', \"hasn't\", 'haven', \"haven't\", 'isn', \"isn't\", 'ma', 'mightn', \"mightn't\", 'mustn', \"mustn't\", 'needn', \"needn't\", 'shan', \"shan't\", 'shouldn', \"shouldn't\", 'wasn', \"wasn't\", 'weren', \"weren't\", 'won', \"won't\", 'wouldn', \"wouldn't\"]}\n"
     ]
    }
   ],
   "source": [
    "print(grid_search.best_params_)"
   ]
  },
  {
   "cell_type": "code",
   "execution_count": 17,
   "id": "34b400cc",
   "metadata": {},
   "outputs": [
    {
     "name": "stdout",
     "output_type": "stream",
     "text": [
      "Precision:  [0.88571429 0.90338164 0.87735849 0.91666667 0.92537313 0.90147783\n",
      " 0.86255924 0.90384615 0.88151659 0.875     ]\n",
      "Recall:  [0.97894737 0.97905759 0.97382199 0.97905759 0.97382199 0.95811518\n",
      " 0.95287958 0.98429319 0.97894737 0.95789474]\n"
     ]
    }
   ],
   "source": [
    "from sklearn.model_selection import cross_val_score\n",
    "\n",
    "\n",
    "print('Precision: ', cross_val_score(grid_search.best_estimator_, X=X_train, y=y_train.values.astype(np.uint8), cv=10, scoring='precision', n_jobs=5))\n",
    "print('Recall: ', cross_val_score(grid_search.best_estimator_, X=X_train, y=y_train.values.astype(np.uint8), cv=10, scoring='recall', n_jobs=5))"
   ]
  }
 ],
 "metadata": {
  "kernelspec": {
   "display_name": "Python 3",
   "language": "python",
   "name": "python3"
  },
  "language_info": {
   "codemirror_mode": {
    "name": "ipython",
    "version": 3
   },
   "file_extension": ".py",
   "mimetype": "text/x-python",
   "name": "python",
   "nbconvert_exporter": "python",
   "pygments_lexer": "ipython3",
   "version": "3.9.4"
  }
 },
 "nbformat": 4,
 "nbformat_minor": 5
}
