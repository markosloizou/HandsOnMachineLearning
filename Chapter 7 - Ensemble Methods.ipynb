{
 "cells": [
  {
   "cell_type": "code",
   "execution_count": 1,
   "id": "05ba585b",
   "metadata": {},
   "outputs": [],
   "source": [
    "%matplotlib inline\n",
    "import matplotlib.pyplot as plt\n",
    "import numpy as np\n",
    "import pandas as pd\n",
    "\n",
    "\n",
    "from sklearn.model_selection import cross_val_score, train_test_split, GridSearchCV\n",
    "from sklearn.pipeline import Pipeline\n",
    "from sklearn.tree import DecisionTreeClassifier\n",
    "from sklearn.datasets import make_moons"
   ]
  },
  {
   "cell_type": "markdown",
   "id": "ab5800dc",
   "metadata": {},
   "source": [
    "## Ex 8"
   ]
  },
  {
   "cell_type": "code",
   "execution_count": 2,
   "id": "82df375d",
   "metadata": {},
   "outputs": [],
   "source": [
    "from sklearn.datasets import fetch_openml\n",
    "mnist = fetch_openml('mnist_784', version=1)\n",
    "X,y = mnist['data'], mnist['target']\n",
    "\n",
    "del mnist"
   ]
  },
  {
   "cell_type": "code",
   "execution_count": 3,
   "id": "462c9617",
   "metadata": {},
   "outputs": [],
   "source": [
    "from sklearn.svm import SVC\n",
    "from sklearn.ensemble import ExtraTreesClassifier ,RandomForestClassifier"
   ]
  },
  {
   "cell_type": "code",
   "execution_count": 4,
   "id": "d65f6744",
   "metadata": {},
   "outputs": [],
   "source": [
    "X_train = X[0:50000]\n",
    "y_train = X[0:50000]\n",
    "\n",
    "X_val = X[50000:60000]\n",
    "y_val = X[50000:60000]\n",
    "\n",
    "X_test = X[60000:]\n",
    "y_test = X[60000:]"
   ]
  },
  {
   "cell_type": "code",
   "execution_count": null,
   "id": "575fa3de",
   "metadata": {},
   "outputs": [],
   "source": [
    "et = ExtraTreesClassifier(max_depth=6,\n",
    "                          min_samples_leaf = 10, \n",
    "                          max_leaf_nodes=16, \n",
    "                          n_estimators = 10,\n",
    "                          n_jobs=-1)\n",
    "et.fit(X_train, y_train)\n",
    "et.score(X_val, y_val)"
   ]
  },
  {
   "cell_type": "code",
   "execution_count": null,
   "id": "59e1c09c",
   "metadata": {},
   "outputs": [],
   "source": [
    "rf = RandomForestClassifier(max_depth=2,n_estimators = 10, max_leaf_nodes=16, n_jobs=-1)\n",
    "\n",
    "rf.fit(X_train, y_train)\n",
    "rf.score(X_val, y_val)"
   ]
  },
  {
   "cell_type": "code",
   "execution_count": null,
   "id": "b2298db7",
   "metadata": {},
   "outputs": [],
   "source": [
    "svc = SVC()\n",
    "svc.fit(X_train, y_train)\n",
    "svc.score(X_val, y_val)"
   ]
  },
  {
   "cell_type": "code",
   "execution_count": null,
   "id": "4eadce17",
   "metadata": {},
   "outputs": [],
   "source": []
  }
 ],
 "metadata": {
  "kernelspec": {
   "display_name": "Python 3",
   "language": "python",
   "name": "python3"
  },
  "language_info": {
   "codemirror_mode": {
    "name": "ipython",
    "version": 3
   },
   "file_extension": ".py",
   "mimetype": "text/x-python",
   "name": "python",
   "nbconvert_exporter": "python",
   "pygments_lexer": "ipython3",
   "version": "3.9.5"
  }
 },
 "nbformat": 4,
 "nbformat_minor": 5
}
