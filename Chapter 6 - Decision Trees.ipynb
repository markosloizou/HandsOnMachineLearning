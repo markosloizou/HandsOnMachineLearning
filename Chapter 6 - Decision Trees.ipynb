{
 "cells": [
  {
   "cell_type": "code",
   "execution_count": 1,
   "id": "9aeb9265",
   "metadata": {},
   "outputs": [],
   "source": [
    "%matplotlib inline\n",
    "import matplotlib.pyplot as plt\n",
    "import numpy as np\n",
    "import pandas as pd\n",
    "\n",
    "\n",
    "from sklearn.model_selection import cross_val_score, train_test_split, GridSearchCV\n",
    "from sklearn.pipeline import Pipeline\n",
    "from sklearn.tree import DecisionTreeClassifier\n",
    "from sklearn.datasets import make_moons"
   ]
  },
  {
   "cell_type": "markdown",
   "id": "1a7e3d16",
   "metadata": {},
   "source": [
    "##  Excercise 8"
   ]
  },
  {
   "cell_type": "code",
   "execution_count": 8,
   "id": "ed54b085",
   "metadata": {},
   "outputs": [],
   "source": [
    "X, y = make_moons(n_samples = 1000, noise = 0.4)"
   ]
  },
  {
   "cell_type": "code",
   "execution_count": 3,
   "id": "08133c4a",
   "metadata": {},
   "outputs": [
    {
     "data": {
      "text/plain": [
       "(1000, 2)"
      ]
     },
     "execution_count": 3,
     "metadata": {},
     "output_type": "execute_result"
    }
   ],
   "source": [
    "X.shape"
   ]
  },
  {
   "cell_type": "code",
   "execution_count": 9,
   "id": "020a01b2",
   "metadata": {},
   "outputs": [
    {
     "data": {
      "text/plain": [
       "<matplotlib.collections.PathCollection at 0x2972e0fe7c0>"
      ]
     },
     "execution_count": 9,
     "metadata": {},
     "output_type": "execute_result"
    },
    {
     "data": {
      "image/png": "[encoded data removed]",
      "text/plain": [
       "<Figure size 432x288 with 1 Axes>"
      ]
     },
     "metadata": {
      "needs_background": "light"
     },
     "output_type": "display_data"
    }
   ],
   "source": [
    "plt.scatter(X[y==0, 0], X[y==0, 1])\n",
    "plt.scatter(X[y==1, 0], X[y==1, 1])"
   ]
  },
  {
   "cell_type": "code",
   "execution_count": 10,
   "id": "432351bb",
   "metadata": {},
   "outputs": [],
   "source": [
    " X_train, X_test, y_train, y_test = train_test_split(X, y, test_size=0.2, random_state=42)"
   ]
  },
  {
   "cell_type": "code",
   "execution_count": 16,
   "id": "c87c1f25",
   "metadata": {},
   "outputs": [],
   "source": [
    "params = {\n",
    "    'criterion':['gini', 'entropy'],\n",
    "    'splitter':['best', 'random'],\n",
    "    'max_depth':[40,50,60, None],\n",
    "    'min_samples_split':[1,2,3,5,6,7],\n",
    "    'min_samples_leaf':[1,2,3,4,5],\n",
    "    'min_weight_fraction_leaf':[0.0, 0.01, 0.03, 0.05],\n",
    "    'max_leaf_nodes':[None, 75,85,100,115,130,200, 250, 300],\n",
    "    'min_impurity_decrease':[0.0, 0.001, 0.005]\n",
    "}\n",
    "\n",
    "cv = GridSearchCV(DecisionTreeClassifier(), params, scoring='accuracy', n_jobs=4) "
   ]
  },
  {
   "cell_type": "code",
   "execution_count": 17,
   "id": "ea86a2ed",
   "metadata": {
    "scrolled": true
   },
   "outputs": [
    {
     "name": "stderr",
     "output_type": "stream",
     "text": [
      "c:\\users\\marko\\development\\python\\python39\\lib\\site-packages\\sklearn\\model_selection\\_search.py:922: UserWarning: One or more of the test scores are non-finite: [    nan     nan     nan ... 0.76125 0.825   0.75875]\n",
      "  warnings.warn(\n"
     ]
    },
    {
     "data": {
      "text/plain": [
       "GridSearchCV(estimator=DecisionTreeClassifier(), n_jobs=4,\n",
       "             param_grid={'criterion': ['gini', 'entropy'],\n",
       "                         'max_depth': [40, 50, 60, None],\n",
       "                         'max_leaf_nodes': [None, 75, 85, 100, 115, 130, 200,\n",
       "                                            250, 300],\n",
       "                         'min_impurity_decrease': [0.0, 0.001, 0.005],\n",
       "                         'min_samples_leaf': [1, 2, 3, 4, 5],\n",
       "                         'min_samples_split': [1, 2, 3, 5, 6, 7],\n",
       "                         'min_weight_fraction_leaf': [0.0, 0.01, 0.03, 0.05],\n",
       "                         'splitter': ['best', 'random']},\n",
       "             scoring='accuracy')"
      ]
     },
     "execution_count": 17,
     "metadata": {},
     "output_type": "execute_result"
    }
   ],
   "source": [
    "cv.fit(X_train, y_train)"
   ]
  },
  {
   "cell_type": "code",
   "execution_count": 21,
   "id": "81e035eb",
   "metadata": {},
   "outputs": [
    {
     "data": {
      "text/plain": [
       "0.85375"
      ]
     },
     "execution_count": 21,
     "metadata": {},
     "output_type": "execute_result"
    }
   ],
   "source": [
    "cv.best_score_"
   ]
  },
  {
   "cell_type": "code",
   "execution_count": 20,
   "id": "30c333cc",
   "metadata": {},
   "outputs": [
    {
     "data": {
      "text/plain": [
       "{'criterion': 'gini',\n",
       " 'max_depth': 60,\n",
       " 'max_leaf_nodes': 115,\n",
       " 'min_impurity_decrease': 0.001,\n",
       " 'min_samples_leaf': 2,\n",
       " 'min_samples_split': 3,\n",
       " 'min_weight_fraction_leaf': 0.0,\n",
       " 'splitter': 'random'}"
      ]
     },
     "execution_count": 20,
     "metadata": {},
     "output_type": "execute_result"
    }
   ],
   "source": [
    "cv.best_params_"
   ]
  },
  {
   "cell_type": "code",
   "execution_count": 22,
   "id": "26952544",
   "metadata": {},
   "outputs": [
    {
     "data": {
      "text/plain": [
       "DecisionTreeClassifier(max_depth=60, max_leaf_nodes=115,\n",
       "                       min_impurity_decrease=0.001, min_samples_leaf=2,\n",
       "                       min_samples_split=3, splitter='random')"
      ]
     },
     "execution_count": 22,
     "metadata": {},
     "output_type": "execute_result"
    }
   ],
   "source": [
    "bestEstimator = cv.best_estimator_\n",
    "\n",
    "bestEstimator.fit(X_train, y_train)"
   ]
  },
  {
   "cell_type": "code",
   "execution_count": 23,
   "id": "f1c50373",
   "metadata": {},
   "outputs": [
    {
     "data": {
      "text/plain": [
       "0.86"
      ]
     },
     "execution_count": 23,
     "metadata": {},
     "output_type": "execute_result"
    }
   ],
   "source": [
    "bestEstimator.score(X_test, y_test)"
   ]
  },
  {
   "cell_type": "markdown",
   "id": "627779db",
   "metadata": {},
   "source": [
    "## Excercise 9"
   ]
  },
  {
   "cell_type": "code",
   "execution_count": 97,
   "id": "9e6afa51",
   "metadata": {},
   "outputs": [],
   "source": [
    "from sklearn.model_selection import ShuffleSplit\n",
    "\n",
    "rs = ShuffleSplit(n_splits=1000, test_size=0.1)"
   ]
  },
  {
   "cell_type": "code",
   "execution_count": 98,
   "id": "a2e474d3",
   "metadata": {},
   "outputs": [],
   "source": [
    "from sklearn.base import clone \n",
    "estimators = [clone(cv.best_estimator_) for i in range(0,1000)]\n",
    "\n",
    "for  (train_index, test_index), estimator in zip(rs.split(X_train), estimators):\n",
    "    estimator.fit(X_train[train_index], y_train[train_index])"
   ]
  },
  {
   "cell_type": "code",
   "execution_count": 99,
   "id": "41db2fda",
   "metadata": {},
   "outputs": [],
   "source": [
    "from scipy.stats import mode\n",
    "\n",
    "predictions = np.repeat(0, len(y_test))\n",
    "\n",
    "for i in range(0, len(y_test)):\n",
    "    pred = np.repeat(0, 1000)\n",
    "    for j in range(0,1000):\n",
    "        pred[j] = estimators[j].predict(X_test[i].reshape(1, -1))\n",
    "    predictions[i] = mode(pred)[0][0]\n"
   ]
  },
  {
   "cell_type": "code",
   "execution_count": 100,
   "id": "f9e82ab6",
   "metadata": {},
   "outputs": [
    {
     "data": {
      "text/plain": [
       "0.86"
      ]
     },
     "execution_count": 100,
     "metadata": {},
     "output_type": "execute_result"
    }
   ],
   "source": [
    "sum(predictions == y_test)/len(y_test)"
   ]
  },
  {
   "cell_type": "code",
   "execution_count": null,
   "id": "fd12efd5",
   "metadata": {},
   "outputs": [],
   "source": []
  }
 ],
 "metadata": {
  "kernelspec": {
   "display_name": "Python 3",
   "language": "python",
   "name": "python3"
  },
  "language_info": {
   "codemirror_mode": {
    "name": "ipython",
    "version": 3
   },
   "file_extension": ".py",
   "mimetype": "text/x-python",
   "name": "python",
   "nbconvert_exporter": "python",
   "pygments_lexer": "ipython3",
   "version": "3.9.5"
  }
 },
 "nbformat": 4,
 "nbformat_minor": 5
}
